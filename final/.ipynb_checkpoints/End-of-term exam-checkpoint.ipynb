{
 "cells": [
  {
   "cell_type": "code",
   "execution_count": 1,
   "metadata": {
    "collapsed": true
   },
   "outputs": [],
   "source": [
    "import numpy as np\n",
    "import pandas as pd\n",
    "import matplotlib.pyplot as plt\n",
    "import seaborn as sns\n",
    "#from __future__ import division\n",
    "import scipy as sp\n",
    "from scipy.special import factorial\n",
    "%matplotlib inline"
   ]
  },
  {
   "cell_type": "code",
   "execution_count": 6,
   "metadata": {},
   "outputs": [
    {
     "name": "stdout",
     "output_type": "stream",
     "text": [
      "Sum: 96\n",
      "prod(factorial): 2282521714753536000L\n"
     ]
    },
    {
     "data": {
      "image/png": "[encoded data removed]",
      "text/plain": [
       "<matplotlib.figure.Figure at 0x1e5251786d8>"
      ]
     },
     "metadata": {},
     "output_type": "display_data"
    }
   ],
   "source": [
    "#data = np.random.poisson(1, 100)\n",
    "data = np.random.geometric(0.5, 100)\n",
    "data -= 1\n",
    "sns.distplot(data, kde=False, norm_hist=True)\n",
    "print(\"Sum: %d\" % data.sum())\n",
    "print(\"prod(factorial): %dL\" % factorial(data).prod())"
   ]
  },
  {
   "cell_type": "code",
   "execution_count": 7,
   "metadata": {
    "collapsed": true
   },
   "outputs": [],
   "source": [
    "def likelihood1(data, theta):\n",
    "    return (pow(theta, data)/factorial(data)*np.exp(-theta)).prod()\n",
    "\n",
    "def prior1(theta):\n",
    "    return np.exp(-theta)\n",
    "\n",
    "def likelihood2(data, theta):\n",
    "    return (pow(theta, data)*(1-theta)).prod()\n",
    "\n",
    "def prior2(theta):\n",
    "    return 1"
   ]
  },
  {
   "cell_type": "code",
   "execution_count": 8,
   "metadata": {
    "collapsed": true
   },
   "outputs": [],
   "source": [
    "def draw_from_posterior1(data):\n",
    "    N = len(data)\n",
    "    return np.random.gamma(data.sum()+1, 1/(N+1))\n",
    "\n",
    "def draw_from_posterior2(data):\n",
    "    N = len(data)\n",
    "    return np.random.beta(data.sum()+1, N+1)"
   ]
  },
  {
   "cell_type": "code",
   "execution_count": null,
   "metadata": {
    "collapsed": true
   },
   "outputs": [],
   "source": []
  },
  {
   "cell_type": "code",
   "execution_count": 123,
   "metadata": {
    "collapsed": true
   },
   "outputs": [],
   "source": [
    "def gamma_pdf(x, k, theta):\n",
    "    return 1/(sp.special.gamma(k)*pow(theta, k))*pow(x, k-1)*np.exp(-x/theta)\n",
    "\n",
    "def beta_pdf(x, a, b):\n",
    "    B = sp.special.gamma(a)*sp.special.gamma(b)*sp.special.gamma(a+b)\n",
    "    return pow(x, a)*pow(1-x, b)/B"
   ]
  },
  {
   "cell_type": "markdown",
   "metadata": {},
   "source": [
    "???"
   ]
  },
  {
   "cell_type": "markdown",
   "metadata": {},
   "source": [
    "## Analytical Result"
   ]
  },
  {
   "cell_type": "code",
   "execution_count": 125,
   "metadata": {},
   "outputs": [
    {
     "name": "stdout",
     "output_type": "stream",
     "text": [
      "nan\n"
     ]
    },
    {
     "name": "stderr",
     "output_type": "stream",
     "text": [
      "/org/groups/chg/weili/anaconda/lib/python2.7/site-packages/ipykernel_launcher.py:3: RuntimeWarning: overflow encountered in double_scalars\n",
      "  This is separate from the ipykernel package so we can avoid doing imports until\n",
      "/org/groups/chg/weili/anaconda/lib/python2.7/site-packages/ipykernel_launcher.py:3: RuntimeWarning: invalid value encountered in double_scalars\n",
      "  This is separate from the ipykernel package so we can avoid doing imports until\n"
     ]
    }
   ],
   "source": [
    "BF = sp.special.gamma(1+data.sum())*sp.special.gamma(100+data.sum()+1+1)/(\n",
    "    sp.special.gamma(2)*(factorial(data)).prod()\n",
    "    *sp.special.gamma(100+1)*sp.special.gamma(data.sum()+1)*(100+1)**(1+data.sum()))\n",
    "print(BF)"
   ]
  },
  {
   "cell_type": "markdown",
   "metadata": {},
   "source": [
    "## Use inverse"
   ]
  },
  {
   "cell_type": "code",
   "execution_count": 174,
   "metadata": {},
   "outputs": [
    {
     "name": "stdout",
     "output_type": "stream",
     "text": [
      "4.03932954741e-54\n"
     ]
    },
    {
     "data": {
      "text/plain": [
       "<matplotlib.axes._subplots.AxesSubplot at 0x7ff869820e90>"
      ]
     },
     "execution_count": 174,
     "metadata": {},
     "output_type": "execute_result"
    },
    {
     "data": {
      "image/png": "[encoded data removed]",
      "text/plain": [
       "<matplotlib.figure.Figure at 0x7ff86948ae50>"
      ]
     },
     "metadata": {},
     "output_type": "display_data"
    }
   ],
   "source": [
    "res1 = 0\n",
    "N1 = 1000000\n",
    "theta_list1 = []\n",
    "for i in range(N1):\n",
    "    theta = draw_from_posterior1(data)\n",
    "    theta_list1.append(theta)\n",
    "    res1 += 1/likelihood1(data, theta)\n",
    "res1 /= N1\n",
    "print(1/res1)\n",
    "sns.distplot(theta_list1)"
   ]
  },
  {
   "cell_type": "code",
   "execution_count": 175,
   "metadata": {},
   "outputs": [
    {
     "name": "stdout",
     "output_type": "stream",
     "text": [
      "3.17245911261e-53\n"
     ]
    },
    {
     "data": {
      "text/plain": [
       "<matplotlib.axes._subplots.AxesSubplot at 0x7ff8695acb50>"
      ]
     },
     "execution_count": 175,
     "metadata": {},
     "output_type": "execute_result"
    },
    {
     "data": {
      "image/png": "[encoded data removed]",
      "text/plain": [
       "<matplotlib.figure.Figure at 0x7ff8693d4690>"
      ]
     },
     "metadata": {},
     "output_type": "display_data"
    }
   ],
   "source": [
    "res2 = 0\n",
    "N2 = 1000000\n",
    "theta_list2 = []\n",
    "\n",
    "for i in range(N2):\n",
    "    theta = draw_from_posterior2(data)\n",
    "    theta_list2.append(theta)\n",
    "    res2 += 1/likelihood2(data, theta)\n",
    "res2 /= N2\n",
    "print(1/res2)\n",
    "sns.distplot(theta_list2)"
   ]
  },
  {
   "cell_type": "code",
   "execution_count": 176,
   "metadata": {},
   "outputs": [
    {
     "name": "stdout",
     "output_type": "stream",
     "text": [
      "0.112944259783\n"
     ]
    }
   ],
   "source": [
    "print(1/res1/(1/res1+1/res2))"
   ]
  },
  {
   "cell_type": "markdown",
   "metadata": {},
   "source": [
    "## Evaluate at Specific $\\theta$"
   ]
  },
  {
   "cell_type": "code",
   "execution_count": 156,
   "metadata": {
    "collapsed": true
   },
   "outputs": [],
   "source": [
    "def alpha1(x1, x2, data):\n",
    "    return min(1, prior1(x2)*likelihood1(data, x2)/prior1(x1)/likelihood1(data, x1))\n",
    "\n",
    "def alpha2(x1, x2, data):\n",
    "    return min(1, prior2(x2)*likelihood2(data, x2)/prior2(x1)/likelihood2(data, x1))"
   ]
  },
  {
   "cell_type": "code",
   "execution_count": 124,
   "metadata": {
    "collapsed": true
   },
   "outputs": [],
   "source": [
    "def p1(x1, x2, data):\n",
    "    return alpha1(x1, x2, data)*gamma_pdf(x2, 1, x1)\n",
    "\n",
    "def p2(x1, x2, data):\n",
    "    return alpha2(x1, x2, data)"
   ]
  },
  {
   "cell_type": "markdown",
   "metadata": {},
   "source": [
    "## $M_1$"
   ]
  },
  {
   "cell_type": "code",
   "execution_count": 171,
   "metadata": {},
   "outputs": [
    {
     "name": "stdout",
     "output_type": "stream",
     "text": [
      "f(M|data): 2.151073e-54\n",
      "numerator: 2.444748e-01\n",
      "denominator: 2.119521e-02\n"
     ]
    }
   ],
   "source": [
    "theta0 = 1\n",
    "theta1 = np.random.gamma(1, 1)\n",
    "theta2 = np.random.gamma(1, 1)\n",
    "N1 = N2 = 1000000\n",
    "numerator = 0\n",
    "denominator = 0\n",
    "\n",
    "\n",
    "for i in range(N1):\n",
    "    theta1 = draw_from_posterior1(data)\n",
    "    denominator += p1(theta1, theta0, data)\n",
    "denominator /= N1\n",
    "\n",
    "for i in range(N2):\n",
    "    theta2 = np.random.gamma(1, theta0)\n",
    "    numerator += alpha1(theta0, theta2, data)\n",
    "numerator /= N2\n",
    "\n",
    "res1 = likelihood1(data, theta0)*prior1(theta0)*numerator/denominator\n",
    "\n",
    "print(\"f(M|data): %e\" % res1)\n",
    "print(\"numerator: %e\" %numerator)\n",
    "print(\"denominator: %e\" %denominator)"
   ]
  },
  {
   "cell_type": "markdown",
   "metadata": {},
   "source": [
    "## $M_2$"
   ]
  },
  {
   "cell_type": "code",
   "execution_count": 172,
   "metadata": {},
   "outputs": [
    {
     "name": "stdout",
     "output_type": "stream",
     "text": [
      "f(M|data): 1.171216e-53\n",
      "numerator: 1.733389e-01\n",
      "denominator: 3.090365e-01\n"
     ]
    }
   ],
   "source": [
    "theta0 = 0.5\n",
    "theta1 = np.random.beta(1, 1)\n",
    "theta2 = np.random.beta(1, 1)\n",
    "N1 = N2 = 1000000\n",
    "numerator = 0\n",
    "denominator = 0\n",
    "\n",
    "\n",
    "for i in range(N1):\n",
    "    theta1 = draw_from_posterior2(data)\n",
    "    denominator += p2(theta1, theta0, data)\n",
    "denominator /= N1\n",
    "\n",
    "for i in range(N2):\n",
    "    theta2 = np.random.uniform()\n",
    "    numerator += alpha2(theta0, theta2, data)\n",
    "numerator /= N2\n",
    "\n",
    "res2 = likelihood2(data, theta0)*prior2(theta0)*numerator/denominator\n",
    "\n",
    "print(\"f(M|data): %e\" % res2)\n",
    "print(\"numerator: %e\" %numerator)\n",
    "print(\"denominator: %e\" %denominator)"
   ]
  },
  {
   "cell_type": "code",
   "execution_count": 173,
   "metadata": {},
   "outputs": [
    {
     "data": {
      "text/plain": [
       "0.1551638796931091"
      ]
     },
     "execution_count": 173,
     "metadata": {},
     "output_type": "execute_result"
    }
   ],
   "source": [
    "res1 / (res1+res2)"
   ]
  },
  {
   "cell_type": "code",
   "execution_count": 184,
   "metadata": {},
   "outputs": [
    {
     "data": {
      "text/plain": [
       "0.12732487335642273"
      ]
     },
     "execution_count": 184,
     "metadata": {},
     "output_type": "execute_result"
    }
   ],
   "source": [
    "res2/res1"
   ]
  },
  {
   "cell_type": "code",
   "execution_count": 185,
   "metadata": {},
   "outputs": [
    {
     "data": {
      "text/plain": [
       "0.18366151077171075"
      ]
     },
     "execution_count": 185,
     "metadata": {},
     "output_type": "execute_result"
    }
   ],
   "source": [
    "2.151073e-54/1.171216e-53"
   ]
  },
  {
   "cell_type": "code",
   "execution_count": null,
   "metadata": {
    "collapsed": true
   },
   "outputs": [],
   "source": []
  },
  {
   "cell_type": "code",
   "execution_count": 49,
   "metadata": {
    "collapsed": true
   },
   "outputs": [],
   "source": [
    "class ModelSelection:\n",
    "    def __init__(self, data):\n",
    "        self.data = data\n",
    "        self.n = len(data)\n",
    "        self.datasum = data.sum()\n",
    "        self.prod_factorial = factorial(data).prod()\n",
    "        self.proba_MCinv = 0\n",
    "        \n",
    "        \n",
    "    def likelihood1(self, theta):\n",
    "        return (pow(theta, self.data)/factorial(self.data)*np.exp(-theta)).prod()\n",
    "\n",
    "    def prior1(self, theta):\n",
    "        return np.exp(-theta)\n",
    "\n",
    "    def likelihood2(self, theta):\n",
    "        return (pow(theta, self.data)*(1-theta)).prod()\n",
    "\n",
    "    def prior2(self, theta):\n",
    "        assert theta > 0 and theta < 1\n",
    "        return 1\n",
    "    \n",
    "    def draw_from_posterior1(self):\n",
    "        return np.random.gamma(self.datasum+1, 1/(self.n+1))\n",
    "\n",
    "    def draw_from_posterior2(self):\n",
    "        N = len(data)\n",
    "        return np.random.beta(self.datasum+1, self.n+1)\n",
    "    \n",
    "    #def gamma_pdf(x, k, theta):\n",
    "    #    return 1/(sp.special.gamma(k)*pow(theta, k))*pow(x, k-1)*np.exp(-x/theta)\n",
    "    \n",
    "    def MC_inv(self, N):\n",
    "        theta_list = np.array([self.draw_from_posterior1() for i in range(N)])\n",
    "        res1 = 1/np.array([1/self.likelihood1(theta) for theta in theta_list]).mean()\n",
    "        theta_list = np.array([self.draw_from_posterior2() for i in range(N)])\n",
    "        res2 = 1/np.array([1/self.likelihood2(theta) for theta in theta_list]).mean()\n",
    "        self.proba_MCinv = res1/(res2+res1)\n",
    "        return res1, res2\n",
    "        \n",
    "    \n",
    "    "
   ]
  },
  {
   "cell_type": "code",
   "execution_count": 50,
   "metadata": {
    "collapsed": true
   },
   "outputs": [],
   "source": [
    "data = np.random.poisson(1, 100)\n",
    "PG = ModelSelection(data)"
   ]
  },
  {
   "cell_type": "code",
   "execution_count": 51,
   "metadata": {},
   "outputs": [
    {
     "name": "stdout",
     "output_type": "stream",
     "text": [
      "Sum: 118\n",
      "prod(factorial): 577111663187066880L\n"
     ]
    },
    {
     "data": {
      "image/png": "[encoded data removed]",
      "text/plain": [
       "<matplotlib.figure.Figure at 0x1e525b8aa20>"
      ]
     },
     "metadata": {},
     "output_type": "display_data"
    }
   ],
   "source": [
    "sns.distplot(data, kde=False, norm_hist=True)\n",
    "print(\"Sum: %d\" % PG.datasum)\n",
    "print(\"prod(factorial): %dL\" % PG.prod_factorial)"
   ]
  },
  {
   "cell_type": "code",
   "execution_count": 61,
   "metadata": {
    "scrolled": true
   },
   "outputs": [
    {
     "name": "stdout",
     "output_type": "stream",
     "text": [
      "(1.14222747310876e-61, 1.6162134960924883e-66)\n",
      "0.999985850536\n"
     ]
    }
   ],
   "source": [
    "print(PG.MC_inv(1000))\n",
    "print(PG.proba_MCinv)"
   ]
  },
  {
   "cell_type": "code",
   "execution_count": 53,
   "metadata": {},
   "outputs": [
    {
     "data": {
      "text/plain": [
       "0.99997935898342682"
      ]
     },
     "execution_count": 53,
     "metadata": {},
     "output_type": "execute_result"
    }
   ],
   "source": [
    "PG.proba_MCinv"
   ]
  },
  {
   "cell_type": "code",
   "execution_count": null,
   "metadata": {
    "collapsed": true
   },
   "outputs": [],
   "source": []
  }
 ],
 "metadata": {
  "kernelspec": {
   "display_name": "Python 3",
   "language": "python",
   "name": "python3"
  },
  "language_info": {
   "codemirror_mode": {
    "name": "ipython",
    "version": 3
   },
   "file_extension": ".py",
   "mimetype": "text/x-python",
   "name": "python",
   "nbconvert_exporter": "python",
   "pygments_lexer": "ipython3",
   "version": "3.6.3"
  }
 },
 "nbformat": 4,
 "nbformat_minor": 2
}
