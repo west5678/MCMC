{
 "cells": [
  {
   "cell_type": "code",
   "execution_count": 1,
   "metadata": {
    "collapsed": true
   },
   "outputs": [],
   "source": [
    "import numpy as np\n",
    "import pandas as pd\n",
    "import matplotlib.pyplot as plt\n",
    "import seaborn as sns\n",
    "from __future__ import division\n",
    "import scipy as sp\n",
    "from scipy.special import factorial\n",
    "%matplotlib inline"
   ]
  },
  {
   "cell_type": "markdown",
   "metadata": {},
   "source": [
    "## OO Version"
   ]
  },
  {
   "cell_type": "code",
   "execution_count": 2,
   "metadata": {},
   "outputs": [],
   "source": [
    "class ModelSelection:\n",
    "    def __init__(self, data):\n",
    "        self.data = data\n",
    "        self.n = len(data)\n",
    "        self.datasum = data.sum()\n",
    "        self.prod_factorial = factorial(data).prod()        \n",
    "        \n",
    "    def likelihood1(self, theta):\n",
    "        return (pow(theta, self.data)/factorial(self.data)*np.exp(-theta)).prod()\n",
    "\n",
    "    def prior1(self, theta):\n",
    "        return np.exp(-theta)\n",
    "\n",
    "    def likelihood2(self, theta):\n",
    "        return (pow(theta, self.data)*(1-theta)).prod()\n",
    "\n",
    "    def prior2(self, theta):\n",
    "        assert theta > 0 and theta < 1\n",
    "        return 1\n",
    "    \n",
    "    def draw_from_posterior1(self):\n",
    "        return np.random.gamma(self.datasum+1, 1/(self.n+1))\n",
    "\n",
    "    def draw_from_posterior2(self):\n",
    "        N = len(data)\n",
    "        return np.random.beta(self.datasum+1, self.n+1)\n",
    "    \n",
    "    def gamma_pdf(self, x, k, theta):\n",
    "        return 1/(sp.special.gamma(k)*pow(theta, k))*pow(x, k-1)*np.exp(-x/theta)\n",
    "    \n",
    "    def MC_inv(self, N=10000):\n",
    "        theta_list = np.array([self.draw_from_posterior1() for i in range(N)])\n",
    "        res1 = 1/np.array([1/self.likelihood1(theta) for theta in theta_list]).mean()\n",
    "        theta_list = np.array([self.draw_from_posterior2() for i in range(N)])\n",
    "        res2 = 1/np.array([1/self.likelihood2(theta) for theta in theta_list]).mean()\n",
    "        self.proba_MCinv = res1/(res2+res1)\n",
    "        return res1, res2\n",
    "        \n",
    "    def __alpha1(self, x1, x2):\n",
    "        return min(1, self.prior1(x2)*self.likelihood1(x2)/\n",
    "                   self.prior1(x1)/self.likelihood1(x1))\n",
    "\n",
    "    def __alpha2(self, x1, x2):\n",
    "        return min(1, self.prior2(x2)*self.likelihood2(x2)/\n",
    "                   self.prior2(x1)/self.likelihood2(x1))\n",
    "    \n",
    "    def __p1(self, x1, x2):\n",
    "        return self.__alpha1(x1, x2)*self.gamma_pdf(x2, 1, 1)\n",
    "\n",
    "    def __p2(self, x1, x2):\n",
    "        return self.__alpha2(x1, x2)\n",
    "    \n",
    "    def MC_posterior(self, N1=1000):\n",
    "        N2 = N1\n",
    "        theta0 = 1    \n",
    "        theta1_list = [self.draw_from_posterior1() for i in range(N1)]\n",
    "        theta2_list = np.random.gamma(1, 1, N2)\n",
    "        denominator = np.array([self.__p1(theta1, theta0) for theta1 in theta1_list]).mean()\n",
    "        numerator = np.array([self.__alpha1(theta0, theta2) for theta2 in theta2_list]).mean()\n",
    "        res1 = self.likelihood1(theta0)*self.prior1(theta0)*numerator/denominator\n",
    "        \n",
    "        theta0 = 0.5\n",
    "        theta1_list = [self.draw_from_posterior2() for i in range(N1)]\n",
    "        theta2_list = np.random.uniform(size=N2)\n",
    "        denominator = np.array([self.__p2(theta1, theta0) for theta1 in theta1_list]).mean()\n",
    "        numerator = np.array([self.__alpha2(theta0, theta2) for theta2 in theta2_list]).mean()\n",
    "        res2 = self.likelihood2(theta0)*self.prior2(theta0)*numerator/denominator\n",
    "        \n",
    "        self.proba_MCposterior = res1/(res2+res1)\n",
    "\n",
    "        return res1, res2"
   ]
  },
  {
   "cell_type": "code",
   "execution_count": 3,
   "metadata": {
    "collapsed": true
   },
   "outputs": [],
   "source": [
    "#data = np.random.poisson(1, 100)\n",
    "data = np.random.geometric(0.5, 100)\n",
    "data -= 1\n",
    "PG = ModelSelection(data)"
   ]
  },
  {
   "cell_type": "code",
   "execution_count": 4,
   "metadata": {},
   "outputs": [
    {
     "name": "stdout",
     "output_type": "stream",
     "text": [
      "Sum: 108\n",
      "prod(factorial): 58900016344872045772800000L\n"
     ]
    },
    {
     "data": {
      "image/png": "[encoded data removed]",
      "text/plain": [
       "<matplotlib.figure.Figure at 0x7fd2d7ea62d0>"
      ]
     },
     "metadata": {},
     "output_type": "display_data"
    }
   ],
   "source": [
    "sns.distplot(data, kde=False, norm_hist=True)\n",
    "print(\"Sum: %d\" % PG.datasum)\n",
    "print(\"prod(factorial): %dL\" % PG.prod_factorial)"
   ]
  },
  {
   "cell_type": "code",
   "execution_count": 32,
   "metadata": {
    "scrolled": true
   },
   "outputs": [],
   "source": [
    "l1 = []\n",
    "l2 = []\n",
    "res = []\n",
    "for i in range(1):\n",
    "    res1, res2 = PG.MC_inv(1000000)\n",
    "    l1.append(res1)\n",
    "    l2.append(res2)\n",
    "    res.append(PG.proba_MCinv)"
   ]
  },
  {
   "cell_type": "code",
   "execution_count": 33,
   "metadata": {
    "collapsed": true
   },
   "outputs": [
    {
     "name": "stderr",
     "output_type": "stream",
     "text": [
      "/org/groups/chg/weili/anaconda/lib/python2.7/site-packages/numpy/core/_methods.py:135: RuntimeWarning: Degrees of freedom <= 0 for slice\n",
      "  keepdims=keepdims)\n",
      "/org/groups/chg/weili/anaconda/lib/python2.7/site-packages/numpy/core/_methods.py:127: RuntimeWarning: invalid value encountered in double_scalars\n",
      "  ret = ret.dtype.type(ret / rcount)\n"
     ]
    },
    {
     "data": {
      "text/plain": [
       "<matplotlib.axes._subplots.AxesSubplot at 0x7fd2cfd59490>"
      ]
     },
     "execution_count": 33,
     "metadata": {},
     "output_type": "execute_result"
    },
    {
     "data": {
      "image/png": "[encoded data removed]",
      "text/plain": [
       "<matplotlib.figure.Figure at 0x7fd2cfbaeb50>"
      ]
     },
     "metadata": {},
     "output_type": "display_data"
    }
   ],
   "source": [
    "sns.distplot(res)"
   ]
  },
  {
   "cell_type": "code",
   "execution_count": 34,
   "metadata": {},
   "outputs": [
    {
     "data": {
      "text/plain": [
       "3.1099770053932312e-07"
      ]
     },
     "execution_count": 34,
     "metadata": {},
     "output_type": "execute_result"
    }
   ],
   "source": [
    "np.mean(l1) / np.mean(l2)"
   ]
  },
  {
   "cell_type": "code",
   "execution_count": 35,
   "metadata": {},
   "outputs": [],
   "source": [
    "l3 = []\n",
    "l4 = []\n",
    "resPost = []\n",
    "for i in range(1):\n",
    "    res3, res4 = PG.MC_posterior(1000000)\n",
    "    l3.append(res3)\n",
    "    l4.append(res4)\n",
    "    resPost.append(PG.proba_MCposterior)"
   ]
  },
  {
   "cell_type": "code",
   "execution_count": 36,
   "metadata": {
    "collapsed": true
   },
   "outputs": [
    {
     "data": {
      "text/plain": [
       "<matplotlib.axes._subplots.AxesSubplot at 0x7fd2cfb21650>"
      ]
     },
     "execution_count": 36,
     "metadata": {},
     "output_type": "execute_result"
    },
    {
     "data": {
      "image/png": "[encoded data removed]",
      "text/plain": [
       "<matplotlib.figure.Figure at 0x7fd2cfb51c50>"
      ]
     },
     "metadata": {},
     "output_type": "display_data"
    }
   ],
   "source": [
    "sns.distplot(resPost)"
   ]
  },
  {
   "cell_type": "code",
   "execution_count": 37,
   "metadata": {},
   "outputs": [
    {
     "data": {
      "text/plain": [
       "2.8996315883947932e-07"
      ]
     },
     "execution_count": 37,
     "metadata": {},
     "output_type": "execute_result"
    }
   ],
   "source": [
    "np.mean(l3) / np.mean(l4)"
   ]
  },
  {
   "cell_type": "code",
   "execution_count": 38,
   "metadata": {},
   "outputs": [
    {
     "data": {
      "text/plain": [
       "2.8996307476087023e-07"
      ]
     },
     "execution_count": 38,
     "metadata": {},
     "output_type": "execute_result"
    }
   ],
   "source": [
    "np.mean(resPost)"
   ]
  },
  {
   "cell_type": "code",
   "execution_count": 39,
   "metadata": {},
   "outputs": [
    {
     "data": {
      "text/plain": [
       "2.3234959106985134e-70"
      ]
     },
     "execution_count": 39,
     "metadata": {},
     "output_type": "execute_result"
    }
   ],
   "source": [
    "theta0 = 1\n",
    "PG.likelihood1(theta0)*PG.prior1(theta0)"
   ]
  },
  {
   "cell_type": "code",
   "execution_count": 40,
   "metadata": {},
   "outputs": [
    {
     "data": {
      "text/plain": [
       "2.4308653429145085e-63"
      ]
     },
     "execution_count": 40,
     "metadata": {},
     "output_type": "execute_result"
    }
   ],
   "source": [
    "theta0 = 0.5\n",
    "PG.likelihood2(theta0)*PG.prior2(theta0)"
   ]
  }
 ],
 "metadata": {
  "kernelspec": {
   "display_name": "Python 2",
   "language": "python",
   "name": "python2"
  },
  "language_info": {
   "codemirror_mode": {
    "name": "ipython",
    "version": 2
   },
   "file_extension": ".py",
   "mimetype": "text/x-python",
   "name": "python",
   "nbconvert_exporter": "python",
   "pygments_lexer": "ipython2",
   "version": "2.7.14"
  }
 },
 "nbformat": 4,
 "nbformat_minor": 2
}
