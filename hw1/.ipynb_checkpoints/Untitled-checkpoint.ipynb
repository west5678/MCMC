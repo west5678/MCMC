{
 "cells": [
  {
   "cell_type": "code",
   "execution_count": 1,
   "metadata": {
    "collapsed": true
   },
   "outputs": [],
   "source": [
    "%matplotlib inline\n",
    "from __future__ import  division\n",
    "import numpy as np\n",
    "from matplotlib import pyplot as plt\n",
    "\n",
    "from rs import RejectionSampling #self-implemented rejection sampling"
   ]
  },
  {
   "cell_type": "markdown",
   "metadata": {},
   "source": [
    "# 1.\n",
    "Use rejection sampling to sample from the density function:\n",
    "\n",
    "$f(x) \\propto (-\\log x)^2 x^3 (1-x)^2, 0 < x < 1$\n",
    "\n",
    "Following the notation from lecture summary, I choose:\n",
    "\n",
    "$l(x) = (\\log x )^2  x^2  (1.0-x)$\n",
    "\n",
    "and $h(x) = x (1- x)$"
   ]
  },
  {
   "cell_type": "code",
   "execution_count": 2,
   "metadata": {
    "collapsed": true
   },
   "outputs": [],
   "source": [
    "def l(x):\n",
    "    return (-np.log(x))**2 * x**2 * (1.0-x)"
   ]
  },
  {
   "cell_type": "code",
   "execution_count": 3,
   "metadata": {
    "collapsed": true
   },
   "outputs": [],
   "source": [
    "def H(x):\n",
    "    #C.D.F. of h(x)\n",
    "    return 3*pow(x ,2) - 2 * pow(x, 3)"
   ]
  },
  {
   "cell_type": "markdown",
   "metadata": {},
   "source": [
    "Although the analytical form of supremum of $l(x)$ on (0,1) is hard to find, we can plot $l(x)$ and find that, $M = \\frac{1}{60}$ bounds $l(x)$ and is not too far from the sharp bound."
   ]
  },
  {
   "cell_type": "code",
   "execution_count": 4,
   "metadata": {},
   "outputs": [
    {
     "data": {
      "text/plain": [
       "[<matplotlib.lines.Line2D at 0x7f0309a7fcd0>,\n",
       " <matplotlib.lines.Line2D at 0x7f0301989710>]"
      ]
     },
     "execution_count": 4,
     "metadata": {},
     "output_type": "execute_result"
    },
    {
     "data": {
      "image/png": "[encoded data removed]",
      "text/plain": [
       "<matplotlib.figure.Figure at 0x7f0309804950>"
      ]
     },
     "metadata": {},
     "output_type": "display_data"
    }
   ],
   "source": [
    "plt.plot(np.linspace(1e-16, 1, 100), l(np.linspace(1e-16, 1, 100)),\n",
    "        np.linspace(1e-16, 1, 100), np.ones(100)*0.1, '--')"
   ]
  },
  {
   "cell_type": "markdown",
   "metadata": {},
   "source": []
  },
  {
   "cell_type": "code",
   "execution_count": 19,
   "metadata": {},
   "outputs": [
    {
     "name": "stdout",
     "output_type": "stream",
     "text": [
      "0.00658074700522\n"
     ]
    }
   ],
   "source": [
    "RS = RejectionSampling(l, H, 0.1)\n",
    "N = 1000\n",
    "g = np.zeros(N)\n",
    "for i in range(N):\n",
    "    x = RS.draw()\n",
    "    g[i] = pow(1-x, 0.5)\n",
    "    \n",
    "print(g.mean() * 919 / 108000)"
   ]
  },
  {
   "cell_type": "code",
   "execution_count": 18,
   "metadata": {},
   "outputs": [
    {
     "data": {
      "text/plain": [
       "0.3420082256892458"
      ]
     },
     "execution_count": 18,
     "metadata": {},
     "output_type": "execute_result"
    }
   ],
   "source": [
    "x"
   ]
  },
  {
   "cell_type": "code",
   "execution_count": null,
   "metadata": {
    "collapsed": true
   },
   "outputs": [],
   "source": []
  }
 ],
 "metadata": {
  "kernelspec": {
   "display_name": "Python 2",
   "language": "python",
   "name": "python2"
  },
  "language_info": {
   "codemirror_mode": {
    "name": "ipython",
    "version": 2
   },
   "file_extension": ".py",
   "mimetype": "text/x-python",
   "name": "python",
   "nbconvert_exporter": "python",
   "pygments_lexer": "ipython2",
   "version": "2.7.14"
  }
 },
 "nbformat": 4,
 "nbformat_minor": 2
}
