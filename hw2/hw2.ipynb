{
 "cells": [
  {
   "cell_type": "code",
   "execution_count": 1,
   "metadata": {
    "collapsed": true
   },
   "outputs": [],
   "source": [
    "import numpy as np\n",
    "import matplotlib.pyplot as plt"
   ]
  },
  {
   "cell_type": "markdown",
   "metadata": {},
   "source": [
    "## Problem 2."
   ]
  },
  {
   "cell_type": "code",
   "execution_count": 2,
   "metadata": {
    "collapsed": true
   },
   "outputs": [],
   "source": [
    "# transition probablity: 2/3 stay, 1/3 move to the other state\n",
    "def draw(prev):\n",
    "    r = np.random.randint(3)\n",
    "    return int(not prev) if r == 0 else prev"
   ]
  },
  {
   "cell_type": "code",
   "execution_count": 3,
   "metadata": {},
   "outputs": [
    {
     "name": "stdout",
     "output_type": "stream",
     "text": [
      "[ 0.5003035  0.4996965]\n"
     ]
    }
   ],
   "source": [
    "N = 1000000 #number of samples\n",
    "cnt = np.array([0, 0]) #counter for numbers of 0 and 1\n",
    "prev = np.random.randint(2) #initial distribution given by P(X0 = 1) = 1/2\n",
    "cnt[prev] += 1\n",
    "for i in range(N):\n",
    "    prev = draw(prev)\n",
    "    cnt[prev] += 1\n",
    "print(cnt*1.0/sum(cnt))"
   ]
  },
  {
   "cell_type": "markdown",
   "metadata": {},
   "source": [
    "As show above, the probablity of getting {0,1} from the given initial density and transition density is half-half.\n",
    "\n",
    "## Problem 3."
   ]
  },
  {
   "cell_type": "code",
   "execution_count": 4,
   "metadata": {},
   "outputs": [
    {
     "data": {
      "text/plain": [
       "array([-0.99 , -0.891, -0.792, -0.693, -0.594, -0.495, -0.396, -0.297,\n",
       "       -0.198, -0.099,  0.   ,  0.099,  0.198,  0.297,  0.396,  0.495,\n",
       "        0.594,  0.693,  0.792,  0.891,  0.99 ])"
      ]
     },
     "execution_count": 4,
     "metadata": {},
     "output_type": "execute_result"
    }
   ],
   "source": [
    "rho_list = np.linspace(-0.99, 0.99, 21) #tested rho values\n",
    "rho_list"
   ]
  },
  {
   "cell_type": "code",
   "execution_count": 5,
   "metadata": {},
   "outputs": [],
   "source": [
    "N = 1000 #number of samples\n",
    "M = 1000 #run MC integration M times to get sample variance of I_N\n",
    "X = np.zeros(N) #samples from MCMC\n",
    "\n",
    "I_N_matrix = np.zeros((21, M))\n",
    "\n",
    "for j in range(len(rho_list)):\n",
    "    rho = rho_list[j]\n",
    "    for k in range(M):    \n",
    "        X[0] = np.random.normal()\n",
    "        for i in range(1, N):\n",
    "            X[i] = np.random.normal(rho*X[i-1], 1-rho**2)\n",
    "        g = np.sqrt(2*np.pi)/(1.0+X**4)\n",
    "        I_N_matrix[j, k] = g.mean()\n"
   ]
  },
  {
   "cell_type": "code",
   "execution_count": 6,
   "metadata": {},
   "outputs": [],
   "source": [
    "I = np.mean(I_N_matrix, axis=1)  #average of 1000 MC integration\n",
    "Var = np.std(I_N_matrix, axis=1) #std of 1000 MC integration"
   ]
  },
  {
   "cell_type": "code",
   "execution_count": 7,
   "metadata": {},
   "outputs": [
    {
     "data": {
      "text/plain": [
       "array([ 2.45781678,  2.32645841,  2.14637353,  2.01263426,  1.91011678,\n",
       "        1.83930526,  1.7806105 ,  1.74193535,  1.71686657,  1.70080126,\n",
       "        1.69698103,  1.70294787,  1.71682972,  1.74199837,  1.7815655 ,\n",
       "        1.83770316,  1.9129858 ,  2.01111972,  2.14845775,  2.32550484,\n",
       "        2.45923913])"
      ]
     },
     "execution_count": 7,
     "metadata": {},
     "output_type": "execute_result"
    }
   ],
   "source": [
    "I"
   ]
  },
  {
   "cell_type": "code",
   "execution_count": 8,
   "metadata": {},
   "outputs": [
    {
     "data": {
      "text/plain": [
       "array([ 0.0625877 ,  0.0315283 ,  0.03573994,  0.03413097,  0.03298732,\n",
       "        0.03124941,  0.03043898,  0.02723701,  0.02690419,  0.02666051,\n",
       "        0.02719546,  0.02688437,  0.02763879,  0.0290687 ,  0.03005323,\n",
       "        0.03095047,  0.03229002,  0.03466885,  0.03458819,  0.03154129,\n",
       "        0.06208201])"
      ]
     },
     "execution_count": 8,
     "metadata": {},
     "output_type": "execute_result"
    }
   ],
   "source": [
    "Var"
   ]
  },
  {
   "cell_type": "code",
   "execution_count": 9,
   "metadata": {},
   "outputs": [
    {
     "data": {
      "image/png": "[encoded data removed]",
      "text/plain": [
       "<matplotlib.figure.Figure at 0x7f83550e6250>"
      ]
     },
     "metadata": {},
     "output_type": "display_data"
    }
   ],
   "source": [
    "plt.plot(rho_list, Var)\n",
    "plt.xlabel(r'\\rho')\n",
    "plt.ylabel(r'Standard Deviation')\n",
    "plt.show()"
   ]
  }
 ],
 "metadata": {
  "kernelspec": {
   "display_name": "Python 2",
   "language": "python",
   "name": "python2"
  },
  "language_info": {
   "codemirror_mode": {
    "name": "ipython",
    "version": 2
   },
   "file_extension": ".py",
   "mimetype": "text/x-python",
   "name": "python",
   "nbconvert_exporter": "python",
   "pygments_lexer": "ipython2",
   "version": "2.7.14"
  }
 },
 "nbformat": 4,
 "nbformat_minor": 2
}
