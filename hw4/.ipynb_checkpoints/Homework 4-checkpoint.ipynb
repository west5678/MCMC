{
 "cells": [
  {
   "cell_type": "code",
   "execution_count": 2,
   "metadata": {
    "collapsed": true
   },
   "outputs": [],
   "source": [
    "import numpy as np\n",
    "import pandas as pd\n",
    "import matplotlib.pyplot as plt\n",
    "import seaborn as sns\n",
    "\n",
    "from __future__ import division\n",
    "\n",
    "%matplotlib inline"
   ]
  },
  {
   "cell_type": "markdown",
   "metadata": {},
   "source": [
    "# Homework 4\n",
    "\n",
    "$g(x|\\theta) = w N(x | \\mu_1, \\sigma^2) + (1-w) N(x|\\mu_2, \\sigma^2)$\n",
    "\n",
    "$\\lambda=1/\\sigma^2$ as GA(1,1)\n",
    "\n",
    "$f(\\mu_1)=N(0,100)$ and $f(\\mu_2) = N(0,100)$\n",
    "\n",
    "$f(w) = U(0,1)$"
   ]
  },
  {
   "cell_type": "markdown",
   "metadata": {},
   "source": [
    "## 1."
   ]
  },
  {
   "cell_type": "code",
   "execution_count": 158,
   "metadata": {},
   "outputs": [
    {
     "data": {
      "image/png": "[encoded data removed]",
      "text/plain": [
       "<matplotlib.figure.Figure at 0x7f132c764c90>"
      ]
     },
     "metadata": {},
     "output_type": "display_data"
    }
   ],
   "source": [
    "sample1 = np.random.randn(100)  #100 samples from standard normal distribution\n",
    "sns.distplot(sample1, bins=np.linspace(-4,4,50))\n",
    "plt.show()"
   ]
  },
  {
   "cell_type": "code",
   "execution_count": 159,
   "metadata": {
    "collapsed": true
   },
   "outputs": [],
   "source": [
    "def gaussian(x, mu, lmbda):\n",
    "    \"\"\"\n",
    "    compute probablity of Gaussian distribution with mean and inverse variance\n",
    "    \"\"\"\n",
    "    return np.exp(-np.power(x - mu, 2.) * lmbda / 2 ) / np.sqrt(2*np.pi/lmbda)"
   ]
  },
  {
   "cell_type": "code",
   "execution_count": 160,
   "metadata": {
    "collapsed": true
   },
   "outputs": [],
   "source": [
    "def draw_d(w, mu1, mu2, lmbda, x):\n",
    "    \"\"\"\n",
    "    :type w: float\n",
    "    :type x: np.array\n",
    "    :type mu1: float\n",
    "    :type mu2: float\n",
    "    :type lmbda: float\n",
    "    :rtype: np.array\n",
    "    \"\"\"\n",
    "    d = np.ones(len(x))\n",
    "    u = np.random.uniform(0,1,len(x))\n",
    "    p = w*(gaussian(x, mu1, lmbda))/(\n",
    "        w*(gaussian(x, mu1, lmbda)) + (1-w)*(gaussian(x, mu2, lmbda)))\n",
    "    d[u>p] = 2\n",
    "    return d\n",
    "\n",
    "def draw_w(d):\n",
    "    n1 = (d==1).sum()\n",
    "    return np.random.beta(n1+1, len(d)-n1+1)\n",
    "\n",
    "def draw_lambda(mu1, mu2, d, a0, b0, x):#a0,b0 are the coefficient from Gamma prior\n",
    "    a = len(x)/2 + a0\n",
    "    b = b0+0.5*(np.power(x[d==1]-mu1, 2).sum() + np.power(x[d==2]-mu2, 2).sum())\n",
    "    return np.random.gamma(a, 1/b)\n",
    "\n",
    "def draw_mu1(d, lmbda, lmbda0, x):\n",
    "    return np.random.normal(lmbda*x[d==1].sum()/(lmbda0+len(x[d==1])*lmbda), 1/np.sqrt(lmbda0+len(x[d==1])*lmbda))\n",
    "\n",
    "def draw_mu2(d, lmbda, lmbda0, x):\n",
    "    return np.random.normal(lmbda*x[d==2].sum()/(lmbda0+len(x[d==2])*lmbda), 1/np.sqrt(lmbda0+len(x[d==2])*lmbda))"
   ]
  },
  {
   "cell_type": "code",
   "execution_count": 161,
   "metadata": {},
   "outputs": [],
   "source": [
    "N = 100000\n",
    "w = np.random.uniform()\n",
    "a0 = 1\n",
    "b0 = 1\n",
    "lmbda0 = 1/100\n",
    "lmbda = np.random.gamma(a0, 1/b0)\n",
    "mu1 = np.random.normal(0, 10)\n",
    "mu2 = np.random.normal(0, 10)\n",
    "parameters = np.zeros((N, 5))\n",
    "sample5 = np.zeros(N)\n",
    "for i in range(N):\n",
    "    d = draw_d(w, mu1, mu2, lmbda, sample1)\n",
    "    w = draw_w(d)\n",
    "    lmbda = draw_lambda(mu1, mu2, d, a0, b0, sample1)\n",
    "    mu1 = draw_mu1(d, lmbda, lmbda0, sample1)\n",
    "    mu2 = draw_mu2(d, lmbda, lmbda0, sample1)\n",
    "    parameters[i] = np.array([w, mu1, mu2, lmbda, d.mean()])\n",
    "    u = np.random.uniform()\n",
    "    if u < w:\n",
    "        sample5[i] = np.random.normal(mu1, 1/np.sqrt(lmbda))\n",
    "    else:\n",
    "        sample5[i] = np.random.normal(mu2, 1/np.sqrt(lmbda))"
   ]
  },
  {
   "cell_type": "code",
   "execution_count": 162,
   "metadata": {
    "collapsed": true
   },
   "outputs": [],
   "source": [
    "x = np.linspace(-5, 5, 100)\n",
    "distributions = np.zeros((N, len(x)))\n",
    "for i in range(len(x)):\n",
    "    distributions[i] = gaussian(x, parameters[i,1], parameters[i,3])*parameters[i, 0] + gaussian(\n",
    "                                x, parameters[i,2], parameters[i,3])*(1-parameters[i, 0])\n"
   ]
  },
  {
   "cell_type": "code",
   "execution_count": 163,
   "metadata": {},
   "outputs": [
    {
     "data": {
      "text/plain": [
       "[<matplotlib.lines.Line2D at 0x7f132c653bd0>]"
      ]
     },
     "execution_count": 163,
     "metadata": {},
     "output_type": "execute_result"
    },
    {
     "data": {
      "image/png": "[encoded data removed]",
      "text/plain": [
       "<matplotlib.figure.Figure at 0x7f132ccbbe50>"
      ]
     },
     "metadata": {},
     "output_type": "display_data"
    }
   ],
   "source": [
    "plt.plot(x, distributions.mean(axis = 0))"
   ]
  },
  {
   "cell_type": "code",
   "execution_count": 164,
   "metadata": {},
   "outputs": [
    {
     "data": {
      "text/plain": [
       "[<matplotlib.lines.Line2D at 0x7f132c5cf950>]"
      ]
     },
     "execution_count": 164,
     "metadata": {},
     "output_type": "execute_result"
    },
    {
     "data": {
      "image/png": "[encoded data removed]",
      "text/plain": [
       "<matplotlib.figure.Figure at 0x7f132c643150>"
      ]
     },
     "metadata": {},
     "output_type": "display_data"
    }
   ],
   "source": [
    "plt.plot(x, gaussian(x, 0, 1))"
   ]
  },
  {
   "cell_type": "code",
   "execution_count": 165,
   "metadata": {},
   "outputs": [
    {
     "data": {
      "text/html": [
       "<div>\n",
       "<style>\n",
       "    .dataframe thead tr:only-child th {\n",
       "        text-align: right;\n",
       "    }\n",
       "\n",
       "    .dataframe thead th {\n",
       "        text-align: left;\n",
       "    }\n",
       "\n",
       "    .dataframe tbody tr th {\n",
       "        vertical-align: top;\n",
       "    }\n",
       "</style>\n",
       "<table border=\"1\" class=\"dataframe\">\n",
       "  <thead>\n",
       "    <tr style=\"text-align: right;\">\n",
       "      <th></th>\n",
       "      <th>w</th>\n",
       "      <th>mu_1</th>\n",
       "      <th>mu_2</th>\n",
       "      <th>lambda</th>\n",
       "      <th>d_mean</th>\n",
       "    </tr>\n",
       "  </thead>\n",
       "  <tbody>\n",
       "    <tr>\n",
       "      <th>0</th>\n",
       "      <td>0.891630</td>\n",
       "      <td>-0.020363</td>\n",
       "      <td>-0.740669</td>\n",
       "      <td>0.082373</td>\n",
       "      <td>1.14</td>\n",
       "    </tr>\n",
       "    <tr>\n",
       "      <th>1</th>\n",
       "      <td>0.906009</td>\n",
       "      <td>-0.278777</td>\n",
       "      <td>0.226092</td>\n",
       "      <td>0.830967</td>\n",
       "      <td>1.09</td>\n",
       "    </tr>\n",
       "    <tr>\n",
       "      <th>2</th>\n",
       "      <td>0.920474</td>\n",
       "      <td>0.163642</td>\n",
       "      <td>0.255008</td>\n",
       "      <td>0.704127</td>\n",
       "      <td>1.09</td>\n",
       "    </tr>\n",
       "    <tr>\n",
       "      <th>3</th>\n",
       "      <td>0.905531</td>\n",
       "      <td>-0.020828</td>\n",
       "      <td>-0.089651</td>\n",
       "      <td>0.852870</td>\n",
       "      <td>1.10</td>\n",
       "    </tr>\n",
       "    <tr>\n",
       "      <th>4</th>\n",
       "      <td>0.910481</td>\n",
       "      <td>0.107881</td>\n",
       "      <td>0.110598</td>\n",
       "      <td>1.143343</td>\n",
       "      <td>1.08</td>\n",
       "    </tr>\n",
       "  </tbody>\n",
       "</table>\n",
       "</div>"
      ],
      "text/plain": [
       "          w      mu_1      mu_2    lambda  d_mean\n",
       "0  0.891630 -0.020363 -0.740669  0.082373    1.14\n",
       "1  0.906009 -0.278777  0.226092  0.830967    1.09\n",
       "2  0.920474  0.163642  0.255008  0.704127    1.09\n",
       "3  0.905531 -0.020828 -0.089651  0.852870    1.10\n",
       "4  0.910481  0.107881  0.110598  1.143343    1.08"
      ]
     },
     "execution_count": 165,
     "metadata": {},
     "output_type": "execute_result"
    }
   ],
   "source": [
    "df = pd.DataFrame(parameters)\n",
    "df.columns = ['w', 'mu_1', 'mu_2', 'lambda', 'd_mean']\n",
    "df.head()"
   ]
  },
  {
   "cell_type": "code",
   "execution_count": 179,
   "metadata": {},
   "outputs": [
    {
     "data": {
      "text/plain": [
       "<matplotlib.axes._subplots.AxesSubplot at 0x7f132ca4d410>"
      ]
     },
     "execution_count": 179,
     "metadata": {},
     "output_type": "execute_result"
    },
    {
     "data": {
      "image/png": "[encoded data removed]",
      "text/plain": [
       "<matplotlib.figure.Figure at 0x7f132c0019d0>"
      ]
     },
     "metadata": {},
     "output_type": "display_data"
    }
   ],
   "source": [
    "sns.distplot(df['w'], kde=False, norm_hist=True)"
   ]
  },
  {
   "cell_type": "code",
   "execution_count": 178,
   "metadata": {},
   "outputs": [
    {
     "data": {
      "text/plain": [
       "<matplotlib.axes._subplots.AxesSubplot at 0x7f132c84b390>"
      ]
     },
     "execution_count": 178,
     "metadata": {},
     "output_type": "execute_result"
    },
    {
     "data": {
      "image/png": "[encoded data removed]",
      "text/plain": [
       "<matplotlib.figure.Figure at 0x7f132c902110>"
      ]
     },
     "metadata": {},
     "output_type": "display_data"
    }
   ],
   "source": [
    "sns.distplot(df['mu_1'], kde=False, norm_hist=True)"
   ]
  },
  {
   "cell_type": "code",
   "execution_count": 180,
   "metadata": {},
   "outputs": [
    {
     "data": {
      "text/plain": [
       "<matplotlib.axes._subplots.AxesSubplot at 0x7f132bfb6c10>"
      ]
     },
     "execution_count": 180,
     "metadata": {},
     "output_type": "execute_result"
    },
    {
     "data": {
      "image/png": "[encoded data removed]",
      "text/plain": [
       "<matplotlib.figure.Figure at 0x7f132beea550>"
      ]
     },
     "metadata": {},
     "output_type": "display_data"
    }
   ],
   "source": [
    "sns.distplot(df['mu_2'], kde=False, norm_hist=True)"
   ]
  },
  {
   "cell_type": "code",
   "execution_count": 169,
   "metadata": {},
   "outputs": [
    {
     "data": {
      "text/plain": [
       "<matplotlib.axes._subplots.AxesSubplot at 0x7f132c41eb50>"
      ]
     },
     "execution_count": 169,
     "metadata": {},
     "output_type": "execute_result"
    },
    {
     "data": {
      "image/png": "[encoded data removed]",
      "text/plain": [
       "<matplotlib.figure.Figure at 0x7f132c2d6310>"
      ]
     },
     "metadata": {},
     "output_type": "display_data"
    }
   ],
   "source": [
    "sns.distplot(df['lambda'])"
   ]
  },
  {
   "cell_type": "code",
   "execution_count": 170,
   "metadata": {},
   "outputs": [
    {
     "data": {
      "text/plain": [
       "<matplotlib.axes._subplots.AxesSubplot at 0x7f132c2d6e10>"
      ]
     },
     "execution_count": 170,
     "metadata": {},
     "output_type": "execute_result"
    },
    {
     "data": {
      "image/png": "[encoded data removed]",
      "text/plain": [
       "<matplotlib.figure.Figure at 0x7f132c3d7ad0>"
      ]
     },
     "metadata": {},
     "output_type": "display_data"
    }
   ],
   "source": [
    "sns.distplot(sample5)"
   ]
  },
  {
   "cell_type": "code",
   "execution_count": 171,
   "metadata": {},
   "outputs": [
    {
     "data": {
      "text/plain": [
       "0.11568729267001371"
      ]
     },
     "execution_count": 171,
     "metadata": {},
     "output_type": "execute_result"
    }
   ],
   "source": [
    "sample5.mean()"
   ]
  },
  {
   "cell_type": "code",
   "execution_count": 172,
   "metadata": {},
   "outputs": [
    {
     "data": {
      "text/plain": [
       "0.1196784842857351"
      ]
     },
     "execution_count": 172,
     "metadata": {},
     "output_type": "execute_result"
    }
   ],
   "source": [
    "(parameters[:,0]*parameters[:,1]+(1-parameters[:,0])*parameters[:,2]).mean()"
   ]
  },
  {
   "cell_type": "code",
   "execution_count": 182,
   "metadata": {},
   "outputs": [
    {
     "data": {
      "text/plain": [
       "0.074016267958344234"
      ]
     },
     "execution_count": 182,
     "metadata": {},
     "output_type": "execute_result"
    }
   ],
   "source": [
    "parameters[:,0].mean()*parameters[:,1].mean()+(1-parameters[:,0].mean())*parameters[:,2].mean()"
   ]
  },
  {
   "cell_type": "code",
   "execution_count": 173,
   "metadata": {},
   "outputs": [
    {
     "data": {
      "text/plain": [
       "20866"
      ]
     },
     "execution_count": 173,
     "metadata": {},
     "output_type": "execute_result"
    }
   ],
   "source": [
    "import gc\n",
    "gc.collect()"
   ]
  },
  {
   "cell_type": "code",
   "execution_count": null,
   "metadata": {
    "collapsed": true
   },
   "outputs": [],
   "source": []
  }
 ],
 "metadata": {
  "kernelspec": {
   "display_name": "Python 2",
   "language": "python",
   "name": "python2"
  },
  "language_info": {
   "codemirror_mode": {
    "name": "ipython",
    "version": 2
   },
   "file_extension": ".py",
   "mimetype": "text/x-python",
   "name": "python",
   "nbconvert_exporter": "python",
   "pygments_lexer": "ipython2",
   "version": "2.7.14"
  }
 },
 "nbformat": 4,
 "nbformat_minor": 2
}
