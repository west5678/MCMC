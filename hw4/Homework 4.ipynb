{
 "cells": [
  {
   "cell_type": "code",
   "execution_count": 1,
   "metadata": {},
   "outputs": [],
   "source": [
    "import numpy as np\n",
    "import pandas as pd\n",
    "import matplotlib.pyplot as plt\n",
    "from matplotlib import rc\n",
    "import seaborn as sns\n",
    "\n",
    "from __future__ import division\n",
    "%matplotlib inline\n",
    "rc('font',**{'family':'sans-serif','sans-serif':['Helvetica']})\n",
    "rc('text', usetex=True)\n"
   ]
  },
  {
   "cell_type": "markdown",
   "metadata": {},
   "source": [
    "# Homework 4\n",
    "\n",
    "$g(x|\\theta) = w N(x | \\mu_1, \\sigma^2) + (1-w) N(x|\\mu_2, \\sigma^2)$\n",
    "\n",
    "$\\lambda=1/\\sigma^2$ as GA(1,1)\n",
    "\n",
    "$f(\\mu_1)=N(0,100)$ and $f(\\mu_2) = N(0,100)$\n",
    "\n",
    "$f(w) = U(0,1)$"
   ]
  },
  {
   "cell_type": "markdown",
   "metadata": {},
   "source": [
    "## 1.\n",
    "\n",
    "First generate 100 samples from standard normal."
   ]
  },
  {
   "cell_type": "code",
   "execution_count": 49,
   "metadata": {},
   "outputs": [
    {
     "data": {
      "image/png": "[encoded data removed]",
      "text/plain": [
       "<matplotlib.figure.Figure at 0x7f64bd937fd0>"
      ]
     },
     "metadata": {},
     "output_type": "display_data"
    }
   ],
   "source": [
    "sample1 = []  #100 samples from standard normal distribution\n",
    "for i in xrange(100):\n",
    "    sample1.append(np.random.randn()) \n",
    "sns.distplot(sample1)\n",
    "plt.show()"
   ]
  },
  {
   "cell_type": "code",
   "execution_count": 3,
   "metadata": {
    "collapsed": true
   },
   "outputs": [],
   "source": [
    "def gaussian(x, mu, lmbda):\n",
    "    \"\"\"\n",
    "    compute probablity of Gaussian distribution with mean and inverse variance\n",
    "    \"\"\"\n",
    "    return np.exp(-np.power(x - mu, 2.) * lmbda / 2 ) / np.sqrt(2*np.pi/lmbda)"
   ]
  },
  {
   "cell_type": "markdown",
   "metadata": {},
   "source": [
    "Implementation of Gibbs sampler:\n",
    "\n",
    "### i. conditional density for latent variable d:\n",
    "\n",
    "    \n",
    "    "
   ]
  },
  {
   "cell_type": "markdown",
   "metadata": {},
   "source": [
    "\\begin{equation}\n",
    "    Pr(d_i = 1 | \\theta, x_i) = \\frac{w N(X_i | \\mu_1, \\sigma_1^2)}\n",
    "                                     {w N(X_i | \\mu_1, \\sigma_1^2) + (1-w) N(X_i | \\mu_2, \\sigma_2^2)}\n",
    "    \\end{equation}"
   ]
  },
  {
   "cell_type": "code",
   "execution_count": 4,
   "metadata": {
    "collapsed": true
   },
   "outputs": [],
   "source": [
    "def draw_d(w, mu1, mu2, lmbda, x):\n",
    "    \"\"\"\n",
    "    :type w: float\n",
    "    :type x: np.array\n",
    "    :type mu1: float\n",
    "    :type mu2: float\n",
    "    :type lmbda: float\n",
    "    :rtype: np.array\n",
    "    \"\"\"\n",
    "    d = np.ones(len(x)) #initialize all d to 1\n",
    "    u = np.random.uniform(0,1,len(x)) #take u from U(0,1)\n",
    "    p = w*(gaussian(x, mu1, lmbda))/(\n",
    "        w*(gaussian(x, mu1, lmbda)) + (1-w)*(gaussian(x, mu2, lmbda))) #probablity of d=1\n",
    "    d[u>p] = 2 #let d=2 if u~U(0,1) > p, else leave d=1\n",
    "    return d"
   ]
  },
  {
   "cell_type": "markdown",
   "metadata": {},
   "source": [
    "### ii. conditional density for w:\n",
    "\n",
    "From class, if the prior of w is uniform, then  $\\ f(w) \\propto w^{n_1} (1-w)^{n_2}$, i.e. w is from $Beta(n_1 + 1, n_2 + 1)$ where $n_1$ is number of d=1 and $n_2$ is number of d=2."
   ]
  },
  {
   "cell_type": "code",
   "execution_count": 5,
   "metadata": {
    "collapsed": true
   },
   "outputs": [],
   "source": [
    "def draw_w(d):\n",
    "    n1 = (d==1).sum()\n",
    "    return np.random.beta(n1+1, len(d)-n1+1)"
   ]
  },
  {
   "cell_type": "markdown",
   "metadata": {},
   "source": [
    "### iii. conditional for $\\lambda$:\n",
    "\n",
    "The prior for $\\lambda$ is $Ga(1,1) \\propto x^{1-1} e^{- x}  = e^{- x}$\n",
    "\n",
    "Thus the conditional density is:\n",
    "\n",
    "\\begin{align}\n",
    "f(\\lambda | \\mu_{d_i}, d_i, x_i) &\\propto \\lambda^{n/2 + a - 1} e^{-\\lambda (b + \\frac{1}{2} \n",
    "                                                                            \\sum_{i=1}^n (x_i - \\mu_{d_i})^2)}\\\\\n",
    "                                 &= Gamma(n/2 + a, b + \\frac{1}{2} \n",
    "                                                                            \\sum_{i=1}^n (x_i - \\mu_{d_i})^2)\n",
    "\\end{align}\n",
    "\n",
    "where a=1, b=1 for this problem."
   ]
  },
  {
   "cell_type": "code",
   "execution_count": 6,
   "metadata": {
    "collapsed": true
   },
   "outputs": [],
   "source": [
    "def draw_lambda(mu1, mu2, d, a0, b0, x):#a0,b0 are the coefficient from Gamma prior\n",
    "    a = len(x)/2 + a0\n",
    "    b = b0+0.5*(np.power(x[d==1]-mu1, 2).sum() + np.power(x[d==2]-mu2, 2).sum())\n",
    "    return np.random.gamma(a, 1/b)"
   ]
  },
  {
   "cell_type": "markdown",
   "metadata": {},
   "source": [
    "### iv. conditional for $\\mu$\n",
    "\n",
    "The prior of $\\mu_j$ is $f(\\mu_j) = N(0,10^2)$\n",
    "\n",
    "\\begin{align}\n",
    "f(\\mu_j | d_i, x_i, \\sigma^2) &\\propto f(\\mu_j)e^{\\sum_{i=1}^{n_j} (x_i - \\mu_j)^2} \\\\\n",
    "                               &\\propto e^{-\\frac{1}{2} (\\lambda_0 + n_j \\lambda) (\\mu_j - \n",
    "                                                           \\frac{\\lambda \\sum x_i}{\\lambda_0 + n \\lambda})} \\\\\n",
    "\\end{align}\n",
    "\n",
    "where $n_j$ is the number d=j and j=1,2."
   ]
  },
  {
   "cell_type": "code",
   "execution_count": 7,
   "metadata": {
    "collapsed": true
   },
   "outputs": [],
   "source": [
    "def draw_mu1(d, lmbda, lmbda0, x):\n",
    "    return np.random.normal(lmbda*x[d==1].sum()/(lmbda0+len(x[d==1])*lmbda), \n",
    "                            1/np.sqrt(lmbda0+len(x[d==1])*lmbda))\n",
    "\n",
    "def draw_mu2(d, lmbda, lmbda0, x):\n",
    "    return np.random.normal(lmbda*x[d==2].sum()/(lmbda0+len(x[d==2])*lmbda), \n",
    "                            1/np.sqrt(lmbda0+len(x[d==2])*lmbda))"
   ]
  },
  {
   "cell_type": "markdown",
   "metadata": {},
   "source": [
    "The Markov Chain Gibbs sampler is implemented in this way:\n",
    "\n",
    "1. Start with initial $w, \\lambda, \\mu_1, \\mu_2$ from prior distribution.\n",
    "2. Run Markov chain:\n",
    "\n",
    "    i. sample d from $w, \\lambda, \\mu_1, \\mu_2$ with conditional density of d $p(d' | w, \\lambda, \\mu_1, \\mu_2, x)$\n",
    "    \n",
    "    ii.sample w from $d', \\lambda, \\mu_1, \\mu_2$ with conditional density of w $p(w' | d' )$\n",
    "    \n",
    "    iii. sample $\\lambda$ with conditional density $p(\\lambda' | w', d', \\mu_1, \\mu_2)$\n",
    "    \n",
    "    iv. sample $\\mu_1, \\mu_2$ with conditional density of $\\mu$.\n",
    "\n",
    "Run the Gibbs sampler for N=100000 iterations and take a sample from each iteration for question 5:"
   ]
  },
  {
   "cell_type": "code",
   "execution_count": 51,
   "metadata": {},
   "outputs": [],
   "source": [
    "sample1 = np.array(sample1)\n",
    "N = 100000\n",
    "w = np.random.uniform()\n",
    "a0 = 1\n",
    "b0 = 1\n",
    "lmbda0 = 1/100\n",
    "lmbda = np.random.gamma(a0, 1/b0)\n",
    "mu1 = np.random.normal(0, 10)\n",
    "mu2 = np.random.normal(0, 10)\n",
    "parameters = np.zeros((N, 5))\n",
    "sample5 = np.zeros(N)\n",
    "for i in range(N):\n",
    "    d = draw_d(w, mu1, mu2, lmbda, sample1)\n",
    "    w = draw_w(d)\n",
    "    lmbda = draw_lambda(mu1, mu2, d, a0, b0, sample1)\n",
    "    mu1 = draw_mu1(d, lmbda, lmbda0, sample1)\n",
    "    mu2 = draw_mu2(d, lmbda, lmbda0, sample1)\n",
    "    parameters[i] = np.array([w, mu1, mu2, lmbda, d.mean()])\n",
    "    u = np.random.uniform()\n",
    "    if u < w:\n",
    "        sample5[i] = np.random.normal(mu1, 1/np.sqrt(lmbda))\n",
    "    else:\n",
    "        sample5[i] = np.random.normal(mu2, 1/np.sqrt(lmbda))"
   ]
  },
  {
   "cell_type": "markdown",
   "metadata": {},
   "source": [
    "## 2. Predictive density\n",
    "\n",
    "To plot the predictive density, I computed a density function at each iteration and take average of these dnesities."
   ]
  },
  {
   "cell_type": "code",
   "execution_count": 52,
   "metadata": {
    "collapsed": true
   },
   "outputs": [],
   "source": [
    "x = np.linspace(-5, 5, 101)\n",
    "distributions = np.zeros((N, len(x)))\n",
    "for i in range(len(x)):\n",
    "    distributions[i] = gaussian(x, parameters[i,1], parameters[i,3])*parameters[i, 0] + gaussian(\n",
    "                                x, parameters[i,2], parameters[i,3])*(1-parameters[i, 0])\n"
   ]
  },
  {
   "cell_type": "markdown",
   "metadata": {},
   "source": [
    "We can see that the averaged density is very close to the actual standard normal."
   ]
  },
  {
   "cell_type": "code",
   "execution_count": 53,
   "metadata": {},
   "outputs": [
    {
     "data": {
      "image/png": "[encoded data removed]",
      "text/plain": [
       "<matplotlib.figure.Figure at 0x7f64bda36a10>"
      ]
     },
     "metadata": {},
     "output_type": "display_data"
    }
   ],
   "source": [
    "mean_density = distributions.mean(axis = 0)\n",
    "plt.plot(x, mean_density*gaussian(x, 0, 1).max()/mean_density.max(), label = 'Average density')\n",
    "plt.plot(x, gaussian(x, 0, 1), '--', label = 'Standard normal')\n",
    "plt.xlabel('x')\n",
    "plt.ylabel('PDF')\n",
    "plt.legend()\n",
    "plt.show()"
   ]
  },
  {
   "cell_type": "markdown",
   "metadata": {},
   "source": [
    "## 3. Posterior Distribution\n",
    "\n",
    "Take a look at the posterior distribution of the parameters:"
   ]
  },
  {
   "cell_type": "code",
   "execution_count": 54,
   "metadata": {},
   "outputs": [
    {
     "data": {
      "text/html": [
       "<div>\n",
       "<style>\n",
       "    .dataframe thead tr:only-child th {\n",
       "        text-align: right;\n",
       "    }\n",
       "\n",
       "    .dataframe thead th {\n",
       "        text-align: left;\n",
       "    }\n",
       "\n",
       "    .dataframe tbody tr th {\n",
       "        vertical-align: top;\n",
       "    }\n",
       "</style>\n",
       "<table border=\"1\" class=\"dataframe\">\n",
       "  <thead>\n",
       "    <tr style=\"text-align: right;\">\n",
       "      <th></th>\n",
       "      <th>w</th>\n",
       "      <th>mu_1</th>\n",
       "      <th>mu_2</th>\n",
       "      <th>lambda</th>\n",
       "      <th>d_mean</th>\n",
       "    </tr>\n",
       "  </thead>\n",
       "  <tbody>\n",
       "    <tr>\n",
       "      <th>count</th>\n",
       "      <td>100000.000000</td>\n",
       "      <td>100000.000000</td>\n",
       "      <td>100000.000000</td>\n",
       "      <td>100000.000000</td>\n",
       "      <td>100000.000000</td>\n",
       "    </tr>\n",
       "    <tr>\n",
       "      <th>mean</th>\n",
       "      <td>0.484062</td>\n",
       "      <td>-0.140020</td>\n",
       "      <td>-0.123002</td>\n",
       "      <td>1.268311</td>\n",
       "      <td>1.516139</td>\n",
       "    </tr>\n",
       "    <tr>\n",
       "      <th>std</th>\n",
       "      <td>0.365845</td>\n",
       "      <td>2.812966</td>\n",
       "      <td>2.518976</td>\n",
       "      <td>0.225470</td>\n",
       "      <td>0.371578</td>\n",
       "    </tr>\n",
       "    <tr>\n",
       "      <th>min</th>\n",
       "      <td>0.000001</td>\n",
       "      <td>-43.134734</td>\n",
       "      <td>-35.698652</td>\n",
       "      <td>0.012616</td>\n",
       "      <td>1.000000</td>\n",
       "    </tr>\n",
       "    <tr>\n",
       "      <th>25%</th>\n",
       "      <td>0.101566</td>\n",
       "      <td>-0.349518</td>\n",
       "      <td>-0.319810</td>\n",
       "      <td>1.110281</td>\n",
       "      <td>1.130000</td>\n",
       "    </tr>\n",
       "    <tr>\n",
       "      <th>50%</th>\n",
       "      <td>0.467761</td>\n",
       "      <td>-0.056442</td>\n",
       "      <td>-0.060899</td>\n",
       "      <td>1.242628</td>\n",
       "      <td>1.530000</td>\n",
       "    </tr>\n",
       "    <tr>\n",
       "      <th>75%</th>\n",
       "      <td>0.865416</td>\n",
       "      <td>0.160541</td>\n",
       "      <td>0.130034</td>\n",
       "      <td>1.398729</td>\n",
       "      <td>1.910000</td>\n",
       "    </tr>\n",
       "    <tr>\n",
       "      <th>max</th>\n",
       "      <td>0.999994</td>\n",
       "      <td>39.466774</td>\n",
       "      <td>36.365747</td>\n",
       "      <td>2.901596</td>\n",
       "      <td>2.000000</td>\n",
       "    </tr>\n",
       "  </tbody>\n",
       "</table>\n",
       "</div>"
      ],
      "text/plain": [
       "                   w           mu_1           mu_2         lambda  \\\n",
       "count  100000.000000  100000.000000  100000.000000  100000.000000   \n",
       "mean        0.484062      -0.140020      -0.123002       1.268311   \n",
       "std         0.365845       2.812966       2.518976       0.225470   \n",
       "min         0.000001     -43.134734     -35.698652       0.012616   \n",
       "25%         0.101566      -0.349518      -0.319810       1.110281   \n",
       "50%         0.467761      -0.056442      -0.060899       1.242628   \n",
       "75%         0.865416       0.160541       0.130034       1.398729   \n",
       "max         0.999994      39.466774      36.365747       2.901596   \n",
       "\n",
       "              d_mean  \n",
       "count  100000.000000  \n",
       "mean        1.516139  \n",
       "std         0.371578  \n",
       "min         1.000000  \n",
       "25%         1.130000  \n",
       "50%         1.530000  \n",
       "75%         1.910000  \n",
       "max         2.000000  "
      ]
     },
     "execution_count": 54,
     "metadata": {},
     "output_type": "execute_result"
    }
   ],
   "source": [
    "df = pd.DataFrame(parameters)\n",
    "df.columns = ['w', 'mu_1', 'mu_2', 'lambda', 'd_mean']\n",
    "df.describe()"
   ]
  },
  {
   "cell_type": "markdown",
   "metadata": {},
   "source": [
    "Posterior density of w: we can see that the weight function is more concentrated at the two ends of (0 or 1)"
   ]
  },
  {
   "cell_type": "code",
   "execution_count": 55,
   "metadata": {},
   "outputs": [
    {
     "data": {
      "image/png": "[encoded data removed]",
      "text/plain": [
       "<matplotlib.figure.Figure at 0x7f64bd9f4f10>"
      ]
     },
     "metadata": {},
     "output_type": "display_data"
    }
   ],
   "source": [
    "sns.distplot(df['w'], kde=False, norm_hist=True)\n",
    "plt.title('posterior distribution of w')\n",
    "plt.xlabel('w')\n",
    "plt.show()"
   ]
  },
  {
   "cell_type": "markdown",
   "metadata": {},
   "source": [
    "posterior distribution of $\\mu_1$ and $\\mu_2$:"
   ]
  },
  {
   "cell_type": "code",
   "execution_count": 56,
   "metadata": {},
   "outputs": [
    {
     "data": {
      "image/png": "[encoded data removed]",
      "text/plain": [
       "<matplotlib.figure.Figure at 0x7f64f81ba490>"
      ]
     },
     "metadata": {},
     "output_type": "display_data"
    }
   ],
   "source": [
    "sns.distplot(df['mu_1'], kde=False, norm_hist=True)\n",
    "plt.title(r'posterior distribution of \\mu_1')\n",
    "plt.xlabel(r'\\mu_1')\n",
    "plt.show()"
   ]
  },
  {
   "cell_type": "code",
   "execution_count": 57,
   "metadata": {},
   "outputs": [
    {
     "data": {
      "image/png": "[encoded data removed]",
      "text/plain": [
       "<matplotlib.figure.Figure at 0x7f64f81ba250>"
      ]
     },
     "metadata": {},
     "output_type": "display_data"
    }
   ],
   "source": [
    "sns.distplot(df['mu_2'], kde=False, norm_hist=True)\n",
    "plt.title(r'posterior distribution of \\mu_2')\n",
    "plt.xlabel(r'\\mu_2')\n",
    "plt.show()"
   ]
  },
  {
   "cell_type": "markdown",
   "metadata": {},
   "source": [
    "We can see that the mean of both cluster are centered at 0.\n",
    "\n",
    "Now have a look at the posterior distribution of $\\lambda$:"
   ]
  },
  {
   "cell_type": "code",
   "execution_count": 58,
   "metadata": {},
   "outputs": [
    {
     "data": {
      "image/png": "[encoded data removed]",
      "text/plain": [
       "<matplotlib.figure.Figure at 0x7f64c2804710>"
      ]
     },
     "metadata": {},
     "output_type": "display_data"
    }
   ],
   "source": [
    "sns.distplot(df['lambda'])\n",
    "plt.title(r'posterior distribution of \\lambda')\n",
    "plt.xlabel(r'\\lambda')\n",
    "plt.show()"
   ]
  },
  {
   "cell_type": "markdown",
   "metadata": {},
   "source": [
    "From the following table we can see that the mean and median of both $\\mu_1 and \\ \\mu_2$ are close to 0. Besides the standard deviation are a little higher than 1. The mean of $\\lambda$ is 1. This indicates that both clusters are similar to a standard normal, thus the mixture of the two is also, a standard normal."
   ]
  },
  {
   "cell_type": "markdown",
   "metadata": {},
   "source": [
    "## 4. latent variable distribution\n",
    "\n",
    "Now consider $d_i$. Even though it is a label of 1 or 2, we can take the average of $d_i$'s at each iteration and have an idea of the fraction of samples coming from each cluster. When the average of $d_i$'s is close to 1, most of samples come from the 1 cluster, vice versa. This histogram is consistent with the histogram of w. \n",
    "\n",
    "Even though the latent variable is more likely to take all 1's or all 2's than mixed 1 and 2, this indicates that data are coming from one group. Also the two groups are similar to each other, i.e. a standard normal."
   ]
  },
  {
   "cell_type": "code",
   "execution_count": 59,
   "metadata": {
    "scrolled": false
   },
   "outputs": [
    {
     "data": {
      "image/png": "[encoded data removed]",
      "text/plain": [
       "<matplotlib.figure.Figure at 0x7f64c2781950>"
      ]
     },
     "metadata": {},
     "output_type": "display_data"
    }
   ],
   "source": [
    "sns.distplot(df.d_mean, kde=False, norm_hist=True)\n",
    "plt.title('posterior distribution of latent variable')\n",
    "plt.xlabel(r'\\bar{d}')\n",
    "plt.show()"
   ]
  },
  {
   "cell_type": "markdown",
   "metadata": {},
   "source": [
    "## 5.\n",
    "Now use the samples take during from each iteration of the Markov chain to estimate the integral:"
   ]
  },
  {
   "cell_type": "code",
   "execution_count": 60,
   "metadata": {
    "scrolled": true
   },
   "outputs": [
    {
     "data": {
      "text/plain": [
       "-0.055029621209702999"
      ]
     },
     "execution_count": 60,
     "metadata": {},
     "output_type": "execute_result"
    }
   ],
   "source": [
    "sample5.mean()"
   ]
  },
  {
   "cell_type": "markdown",
   "metadata": {},
   "source": [
    "The MC estimation of the integral is -0.055 which is close to 0. To help visualize this, I also plotted the histogram of the samples taken from Gibbs sampler. The distribution of the samples also looks like a standard normal."
   ]
  },
  {
   "cell_type": "code",
   "execution_count": 61,
   "metadata": {},
   "outputs": [
    {
     "data": {
      "image/png": "[encoded data removed]",
      "text/plain": [
       "<matplotlib.figure.Figure at 0x7f64bd73c890>"
      ]
     },
     "metadata": {},
     "output_type": "display_data"
    }
   ],
   "source": [
    "sns.distplot(sample5)\n",
    "plt.title('histogram of samples taken from Markov chain')\n",
    "plt.xlabel('x')\n",
    "plt.show()"
   ]
  },
  {
   "cell_type": "markdown",
   "metadata": {},
   "source": [
    "## 6.\n",
    "\n",
    "Take the average of $w\\mu_1 + (1-w) \\mu_2$ from the Markov chain, the result is -0.0569. This is also close to the real mean 0."
   ]
  },
  {
   "cell_type": "code",
   "execution_count": 62,
   "metadata": {},
   "outputs": [
    {
     "data": {
      "text/plain": [
       "-0.05687848692397762"
      ]
     },
     "execution_count": 62,
     "metadata": {},
     "output_type": "execute_result"
    }
   ],
   "source": [
    "(df['w'] * df['mu_1'] + (1-df['w']) * df['mu_2']).mean()"
   ]
  },
  {
   "cell_type": "code",
   "execution_count": 63,
   "metadata": {
    "scrolled": true
   },
   "outputs": [
    {
     "data": {
      "image/png": "[encoded data removed]",
      "text/plain": [
       "<matplotlib.figure.Figure at 0x7f64c2739ed0>"
      ]
     },
     "metadata": {},
     "output_type": "display_data"
    }
   ],
   "source": [
    "sns.distplot(df['w'] * df['mu_1'] + (1-df['w']) * df['mu_2'])\n",
    "plt.title(r'w\\mu_1 + (1-w) \\mu_2')\n",
    "plt.show()"
   ]
  },
  {
   "cell_type": "markdown",
   "metadata": {},
   "source": [
    "Thus both 5 and 6 give the correct estimate to the integration. As discussed in class, there are two ways to estimate MC integration from $\\theta^1, ..., \\theta^m$:\n",
    "\n",
    "1. take $x^m$ from $g(x|\\theta^m)$ and take the mean of $x^m$, which is what I did in question 5.\n",
    "2. take the average predictive density $\\hat{g}_p$ and estimate $I$ by $\\hat{I} = \\int h(x) \\hat{g}_p dx$. Since the $h(x) = x$ in this homework. This is actual what we are asked to do in question 6.\n",
    "\n",
    "Thus both methods give the correct answer."
   ]
  },
  {
   "cell_type": "markdown",
   "metadata": {},
   "source": [
    "However, note that if we first take the average of $w, \\mu_1, \\mu_2$ and then compute $w\\mu_1 + (1-w) \\mu_2$, the result is -0.131 which is further from 0. It is not further way because in our problem, both cluster has a mean that is close to 0. This is the intuitive but wrong way to do MC estimation for Gaussian mixture model."
   ]
  },
  {
   "cell_type": "code",
   "execution_count": 64,
   "metadata": {},
   "outputs": [
    {
     "data": {
      "text/plain": [
       "-0.13123974982865413"
      ]
     },
     "execution_count": 64,
     "metadata": {},
     "output_type": "execute_result"
    }
   ],
   "source": [
    "(df['w'].mean() * df['mu_1'].mean() + (1-df['w']).mean() * df['mu_2'].mean())"
   ]
  }
 ],
 "metadata": {
  "kernelspec": {
   "display_name": "Python 2",
   "language": "python",
   "name": "python2"
  },
  "language_info": {
   "codemirror_mode": {
    "name": "ipython",
    "version": 2
   },
   "file_extension": ".py",
   "mimetype": "text/x-python",
   "name": "python",
   "nbconvert_exporter": "python",
   "pygments_lexer": "ipython2",
   "version": "2.7.14"
  }
 },
 "nbformat": 4,
 "nbformat_minor": 2
}
