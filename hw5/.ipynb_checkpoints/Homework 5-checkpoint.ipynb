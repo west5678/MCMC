{
 "cells": [
  {
   "cell_type": "code",
   "execution_count": null,
   "metadata": {
    "collapsed": true
   },
   "outputs": [],
   "source": [
    " # @hidden_cell\n",
    "\n",
    "import numpy as np\n",
    "import scipy as sp\n",
    "import matplotlib.pyplot as plt\n",
    "import seaborn as sns\n",
    "import pandas as pd"
   ]
  },
  {
   "cell_type": "code",
   "execution_count": null,
   "metadata": {
    "collapsed": true
   },
   "outputs": [],
   "source": [
    "from __future__ import division\n",
    "%matplotlib inline"
   ]
  },
  {
   "cell_type": "code",
   "execution_count": null,
   "metadata": {
    "collapsed": true
   },
   "outputs": [],
   "source": [
    "sample = np.random.exponential(scale=1/3, size=100)"
   ]
  },
  {
   "cell_type": "code",
   "execution_count": null,
   "metadata": {},
   "outputs": [],
   "source": [
    "sns.distplot(sample, kde=False, norm_hist=True)"
   ]
  },
  {
   "cell_type": "code",
   "execution_count": null,
   "metadata": {},
   "outputs": [],
   "source": [
    "sp.misc.factorial(0)"
   ]
  },
  {
   "cell_type": "code",
   "execution_count": null,
   "metadata": {
    "collapsed": true
   },
   "outputs": [],
   "source": [
    "def g_j(j, x):\n",
    "    return j*np.exp(-j*x)"
   ]
  },
  {
   "cell_type": "code",
   "execution_count": null,
   "metadata": {
    "collapsed": true
   },
   "outputs": [],
   "source": [
    "def draw_d(w, M, x):\n",
    "    '''\n",
    "    :type w: np.array\n",
    "    :type M: int\n",
    "    :type x: float\n",
    "    :rtype: int\n",
    "    '''\n",
    "    assert len(w)==M\n",
    "    pr = w*g_j(np.arange(M), x)\n",
    "    pr /= pr.sum()\n",
    "    res = np.random.choice(M, 1, p=pr)\n",
    "    return res"
   ]
  },
  {
   "cell_type": "code",
   "execution_count": null,
   "metadata": {
    "collapsed": true
   },
   "outputs": [],
   "source": [
    "def draw_w(M, d, X):\n",
    "    assert len(d)==len(X)\n",
    "    w_alpha = np.ones(M)\n",
    "    for i, idx in enumerate(d):\n",
    "        w_alpha[d] += 1\n",
    "    return np.random.dirichlet(w_alpha)"
   ]
  },
  {
   "cell_type": "code",
   "execution_count": null,
   "metadata": {
    "collapsed": true
   },
   "outputs": [],
   "source": [
    "def draw_M(M, w):\n",
    "    u = np.random.uniform()\n",
    "    if np.random.randint(2):\n",
    "        pr = M * 1/(M+1)/M /(1/M)\n",
    "        if u<pr:\n",
    "            idx = np.random.randint(M)\n",
    "            w_split = np.random.uniform()\n",
    "            w = np.append(w, w[idx]*(1-w_split))\n",
    "            w[idx] *= w_split\n",
    "            return M+1, w\n",
    "        else:\n",
    "            return M, w\n",
    "    else:\n",
    "        pr = 1/(M-1) * (M-1)/M * (1/(M-1))\n",
    "        if u<pr:\n",
    "            idx1, idx2 = np.random.choice(M, 2, replace=False)\n",
    "            w[idx1] += w[idx2]\n",
    "            w = np.delete(w, idx2)\n",
    "            return M-1, w\n",
    "        else:\n",
    "            return M, w"
   ]
  },
  {
   "cell_type": "code",
   "execution_count": null,
   "metadata": {},
   "outputs": [],
   "source": [
    "draw_d(w, M, sample[0])[0]"
   ]
  },
  {
   "cell_type": "code",
   "execution_count": null,
   "metadata": {
    "scrolled": false
   },
   "outputs": [],
   "source": [
    "M = 10\n",
    "N = 1000\n",
    "w = np.random.dirichlet(np.ones(M))\n",
    "sample2 = []\n",
    "for i in range(N):\n",
    "    if i%100 == 0:\n",
    "        print(i)\n",
    "    d = np.array([draw_d(w, M, x)[0] for x in sample])\n",
    "    w = draw_w(M, d, sample)\n",
    "    idx = np.random.choice(M, 1, p=w)\n",
    "    sample2.append(np.random.exponential(scale=1/(idx+1))[0])\n",
    "    M, w = draw_M(M, w)\n",
    "    print(M)\n",
    "    "
   ]
  },
  {
   "cell_type": "code",
   "execution_count": null,
   "metadata": {},
   "outputs": [],
   "source": [
    "sample2"
   ]
  },
  {
   "cell_type": "code",
   "execution_count": null,
   "metadata": {},
   "outputs": [],
   "source": [
    "sns.distplot(sample2, kde=False, norm_hist=True)\n",
    "x = np.linspace(0, max(sample2), 1000)\n",
    "plt.plot(x, 3*np.exp(-3*x))"
   ]
  },
  {
   "cell_type": "code",
   "execution_count": null,
   "metadata": {},
   "outputs": [],
   "source": [
    "x = np.linspace(0.1, 1.2, 1000)\n",
    "plt.plot(x, np.exp(-3*x))"
   ]
  },
  {
   "cell_type": "code",
   "execution_count": null,
   "metadata": {},
   "outputs": [],
   "source": [
    "sample = np.random.exponential(scale=1/3, size=1000)\n",
    "sns.distplot(sample, kde=False, norm_hist=True)\n",
    "x = np.linspace(0, sample.max(), 1000)\n",
    "plt.plot(x, 3*np.exp(-3*x))"
   ]
  },
  {
   "cell_type": "code",
   "execution_count": null,
   "metadata": {
    "collapsed": true
   },
   "outputs": [],
   "source": []
  }
 ],
 "metadata": {
  "kernelspec": {
   "display_name": "Python 2",
   "language": "python",
   "name": "python2"
  },
  "language_info": {
   "codemirror_mode": {
    "name": "ipython",
    "version": 2
   },
   "file_extension": ".py",
   "mimetype": "text/x-python",
   "name": "python",
   "nbconvert_exporter": "python",
   "pygments_lexer": "ipython2",
   "version": "2.7.14"
  }
 },
 "nbformat": 4,
 "nbformat_minor": 2
}
