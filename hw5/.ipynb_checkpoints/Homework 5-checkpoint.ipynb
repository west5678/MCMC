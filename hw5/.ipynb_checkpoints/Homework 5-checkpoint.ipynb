{
 "cells": [
  {
   "cell_type": "code",
   "execution_count": 65,
   "metadata": {
    "collapsed": true
   },
   "outputs": [],
   "source": [
    "import numpy as np\n",
    "import scipy as sp\n",
    "import matplotlib.pyplot as plt\n",
    "import seaborn as sns\n",
    "import pandas as pd"
   ]
  },
  {
   "cell_type": "code",
   "execution_count": 66,
   "metadata": {
    "collapsed": true
   },
   "outputs": [],
   "source": [
    "#from __future__ import division\n",
    "%matplotlib inline\n",
    "import gc\n",
    "import collections"
   ]
  },
  {
   "cell_type": "code",
   "execution_count": 67,
   "metadata": {},
   "outputs": [
    {
     "data": {
      "text/plain": [
       "[<matplotlib.lines.Line2D at 0x2a1258cdeb8>]"
      ]
     },
     "execution_count": 67,
     "metadata": {},
     "output_type": "execute_result"
    },
    {
     "data": {
      "image/png": "[encoded data removed]",
      "text/plain": [
       "<matplotlib.figure.Figure at 0x2a12582d0b8>"
      ]
     },
     "metadata": {},
     "output_type": "display_data"
    }
   ],
   "source": [
    "sample = np.random.exponential(scale=1/3, size=100)\n",
    "sns.distplot(list(sample), kde=False, norm_hist=True)\n",
    "x = np.linspace(0, sample.max(), 1000)\n",
    "plt.plot(x, 3*np.exp(-3*x))"
   ]
  },
  {
   "cell_type": "code",
   "execution_count": 68,
   "metadata": {
    "collapsed": true
   },
   "outputs": [],
   "source": [
    "def g_j(j, x):\n",
    "    return j*np.exp(-j*x)"
   ]
  },
  {
   "cell_type": "code",
   "execution_count": 69,
   "metadata": {
    "collapsed": true
   },
   "outputs": [],
   "source": [
    "def likelihood(M, w, data):\n",
    "    return np.array([(w*g_j(np.arange(1, M+1), x)).sum() for x in data]).prod()"
   ]
  },
  {
   "cell_type": "code",
   "execution_count": 70,
   "metadata": {
    "collapsed": true
   },
   "outputs": [],
   "source": [
    "def draw_d(w, M, x):\n",
    "    '''\n",
    "    :type w: np.array\n",
    "    :type M: int\n",
    "    :type x: float\n",
    "    :rtype: int\n",
    "    '''\n",
    "    assert len(w)==M\n",
    "    pr = w*g_j(np.arange(1, M+1), x)\n",
    "    pr /= pr.sum()\n",
    "    res = np.random.choice(M, 1, p=pr)\n",
    "    return res"
   ]
  },
  {
   "cell_type": "code",
   "execution_count": 71,
   "metadata": {
    "collapsed": true
   },
   "outputs": [],
   "source": [
    "def draw_w(M, d, X):\n",
    "    assert len(d)==len(X)\n",
    "    w_alpha = np.arange(M)\n",
    "    cnt = collections.Counter(w_alpha)\n",
    "    cnt += collections.Counter(d)\n",
    "    return np.random.dirichlet(list(cnt.values()))"
   ]
  },
  {
   "cell_type": "code",
   "execution_count": 72,
   "metadata": {
    "collapsed": true
   },
   "outputs": [],
   "source": [
    "def M_up(M, w, data):\n",
    "    p_accept = 1/likelihood(M, w, data)\n",
    "    #split w\n",
    "    idx = np.random.randint(M)\n",
    "    w_split = np.random.beta(2, 2)\n",
    "    w = np.append(w, w[idx]*(1-w_split))\n",
    "    w[idx] *= w_split\n",
    "    #acceptance rate\n",
    "    p_accept *= likelihood(M+1, w, data)/6/(w_split*(1-w_split))\n",
    "    return p_accept, w"
   ]
  },
  {
   "cell_type": "code",
   "execution_count": null,
   "metadata": {
    "collapsed": true
   },
   "outputs": [],
   "source": []
  },
  {
   "cell_type": "code",
   "execution_count": 73,
   "metadata": {
    "collapsed": true
   },
   "outputs": [],
   "source": [
    "def M_down(M, w, data):\n",
    "    p_accept = 1/likelihood(M, w, data)\n",
    "    #combine two w\n",
    "    w_split = np.random.beta(2, 2)\n",
    "    idx = np.random.randint(M-1)\n",
    "    w[idx] += w[-1]\n",
    "    w = w[:-1]\n",
    "    #idx1, idx2 = np.random.choice(M, 2, replace=False)\n",
    "    #w[idx1] += w[idx2]\n",
    "    #w = np.delete(w, idx2)\n",
    "    #acceptance rate\n",
    "    p_accept *= likelihood(M-1, w, data)*6*(w_split*(1-w_split))\n",
    "    return p_accept, w"
   ]
  },
  {
   "cell_type": "code",
   "execution_count": 74,
   "metadata": {
    "collapsed": true
   },
   "outputs": [],
   "source": [
    "def draw_M(M, w, data):\n",
    "    u = np.random.uniform()\n",
    "    p, w_up = M_up(M, w, data)\n",
    "    if M == 1: # M can only go up in this case\n",
    "        if u < p:\n",
    "            return M+1, w_up\n",
    "        else:\n",
    "            return M, w\n",
    "    \n",
    "    if np.random.randint(2): # propose to go up\n",
    "        if u<p: # accepted to go up\n",
    "            return M+1, w_up\n",
    "        else: # stay\n",
    "            return M, w\n",
    "    else:\n",
    "        p, w_down = M_down(M, w, data)\n",
    "        if u<p: # accepted to go down\n",
    "            return M-1, w_down\n",
    "        else: # stay\n",
    "            return M, w\n"
   ]
  },
  {
   "cell_type": "code",
   "execution_count": 75,
   "metadata": {
    "scrolled": false
   },
   "outputs": [
    {
     "name": "stdout",
     "output_type": "stream",
     "text": [
      "0\n",
      "1000\n",
      "2000\n",
      "3000\n",
      "4000\n",
      "5000\n",
      "6000\n",
      "7000\n",
      "8000\n",
      "9000\n"
     ]
    }
   ],
   "source": [
    "M = 1\n",
    "N = 10000\n",
    "w = np.random.dirichlet(np.ones(M))\n",
    "sample2 = []\n",
    "Ms = []\n",
    "indices = []\n",
    "w_list = []\n",
    "for i in range(N):\n",
    "    if i%1000 == 0:\n",
    "        print(i)\n",
    "    d = np.array([draw_d(w, M, x)[0] for x in sample])\n",
    "    w = draw_w(M, d, sample)\n",
    "    w_list.append(w)\n",
    "    idx = np.random.choice(M, 1, p=w)[0]\n",
    "    indices.append(idx)\n",
    "    sample2.append(np.random.exponential(scale=1/(idx+1)))\n",
    "    Ms.append(M)\n",
    "    M, w = draw_M(M, w, sample)    "
   ]
  },
  {
   "cell_type": "code",
   "execution_count": 76,
   "metadata": {
    "scrolled": true
   },
   "outputs": [
    {
     "data": {
      "text/plain": [
       "[<matplotlib.lines.Line2D at 0x2a125a1d940>]"
      ]
     },
     "execution_count": 76,
     "metadata": {},
     "output_type": "execute_result"
    },
    {
     "data": {
      "image/png": "[encoded data removed]",
      "text/plain": [
       "<matplotlib.figure.Figure at 0x2a12586e278>"
      ]
     },
     "metadata": {},
     "output_type": "display_data"
    }
   ],
   "source": [
    "plt.plot(Ms)"
   ]
  },
  {
   "cell_type": "code",
   "execution_count": 77,
   "metadata": {},
   "outputs": [
    {
     "data": {
      "text/plain": [
       "<matplotlib.axes._subplots.AxesSubplot at 0x2a125a1def0>"
      ]
     },
     "execution_count": 77,
     "metadata": {},
     "output_type": "execute_result"
    },
    {
     "data": {
      "image/png": "[encoded data removed]",
      "text/plain": [
       "<matplotlib.figure.Figure at 0x2a12592cd68>"
      ]
     },
     "metadata": {},
     "output_type": "display_data"
    }
   ],
   "source": [
    "sns.distplot(Ms, kde=False, norm_hist=True, bins=range(1, 36))"
   ]
  },
  {
   "cell_type": "code",
   "execution_count": 78,
   "metadata": {},
   "outputs": [
    {
     "data": {
      "text/plain": [
       "Text(0.5,1,'Sampled distribution from Gibbs sampler')"
      ]
     },
     "execution_count": 78,
     "metadata": {},
     "output_type": "execute_result"
    },
    {
     "data": {
      "image/png": "[encoded data removed]",
      "text/plain": [
       "<matplotlib.figure.Figure at 0x2a126a32390>"
      ]
     },
     "metadata": {},
     "output_type": "display_data"
    }
   ],
   "source": [
    "sns.distplot(sample2, kde=False, norm_hist=True, label='sample')\n",
    "x = np.linspace(0, max(sample2), 1000)\n",
    "plt.plot(x, 3*np.exp(-3*x), label='3*exp(-3*x)')\n",
    "plt.legend()\n",
    "plt.title('Sampled distribution from Gibbs sampler')"
   ]
  },
  {
   "cell_type": "code",
   "execution_count": 79,
   "metadata": {
    "scrolled": true
   },
   "outputs": [
    {
     "data": {
      "text/plain": [
       "[<matplotlib.lines.Line2D at 0x2a126d24ac8>]"
      ]
     },
     "execution_count": 79,
     "metadata": {},
     "output_type": "execute_result"
    },
    {
     "data": {
      "image/png": "[encoded data removed]",
      "text/plain": [
       "<matplotlib.figure.Figure at 0x2a126ab76d8>"
      ]
     },
     "metadata": {},
     "output_type": "display_data"
    }
   ],
   "source": [
    "plt.plot(indices)"
   ]
  },
  {
   "cell_type": "code",
   "execution_count": 80,
   "metadata": {},
   "outputs": [
    {
     "data": {
      "text/plain": [
       "<matplotlib.axes._subplots.AxesSubplot at 0x2a126cf0e10>"
      ]
     },
     "execution_count": 80,
     "metadata": {},
     "output_type": "execute_result"
    },
    {
     "data": {
      "image/png": "[encoded data removed]",
      "text/plain": [
       "<matplotlib.figure.Figure at 0x2a126d46278>"
      ]
     },
     "metadata": {},
     "output_type": "display_data"
    }
   ],
   "source": [
    "sns.distplot(indices, kde=False, norm_hist=True, bins=np.arange(35))"
   ]
  },
  {
   "cell_type": "code",
   "execution_count": 81,
   "metadata": {
    "collapsed": true
   },
   "outputs": [],
   "source": [
    "sample_mean = [np.mean(sample2[:i]) for i in range(1, N+1)]"
   ]
  },
  {
   "cell_type": "code",
   "execution_count": 82,
   "metadata": {},
   "outputs": [
    {
     "data": {
      "text/plain": [
       "[<matplotlib.lines.Line2D at 0x2a126e63e48>]"
      ]
     },
     "execution_count": 82,
     "metadata": {},
     "output_type": "execute_result"
    },
    {
     "data": {
      "image/png": "[encoded data removed]",
      "text/plain": [
       "<matplotlib.figure.Figure at 0x2a12582d400>"
      ]
     },
     "metadata": {},
     "output_type": "display_data"
    }
   ],
   "source": [
    "plt.plot(range(1, N+1), sample_mean)"
   ]
  },
  {
   "cell_type": "code",
   "execution_count": 83,
   "metadata": {},
   "outputs": [
    {
     "data": {
      "text/plain": [
       "[<matplotlib.lines.Line2D at 0x2a126ea46d8>]"
      ]
     },
     "execution_count": 83,
     "metadata": {},
     "output_type": "execute_result"
    },
    {
     "data": {
      "image/png": "[encoded data removed]",
      "text/plain": [
       "<matplotlib.figure.Figure at 0x2a126dfdcf8>"
      ]
     },
     "metadata": {},
     "output_type": "display_data"
    }
   ],
   "source": [
    "sns.distplot(sample2[:2000], kde=False, norm_hist=True)\n",
    "x = np.linspace(0, max(sample2), 1000)\n",
    "plt.plot(x, 3*np.exp(-3*x))"
   ]
  },
  {
   "cell_type": "code",
   "execution_count": 92,
   "metadata": {
    "scrolled": true
   },
   "outputs": [
    {
     "data": {
      "text/plain": [
       "(0.31067479878262644, 0.34736563089435907)"
      ]
     },
     "execution_count": 92,
     "metadata": {},
     "output_type": "execute_result"
    }
   ],
   "source": [
    "sample.mean(), np.mean(sample2)"
   ]
  },
  {
   "cell_type": "code",
   "execution_count": 85,
   "metadata": {},
   "outputs": [
    {
     "data": {
      "text/plain": [
       "4"
      ]
     },
     "execution_count": 85,
     "metadata": {},
     "output_type": "execute_result"
    }
   ],
   "source": [
    "gc.collect()"
   ]
  },
  {
   "cell_type": "code",
   "execution_count": 86,
   "metadata": {
    "collapsed": true
   },
   "outputs": [],
   "source": [
    "X = np.linspace(0, 5, 101)"
   ]
  },
  {
   "cell_type": "code",
   "execution_count": 87,
   "metadata": {
    "collapsed": true
   },
   "outputs": [],
   "source": [
    "def computeDistribution(x, w_list):\n",
    "    n = len(w_list)\n",
    "    return (w_list*g_j(np.arange(1, n+1), x)).sum()"
   ]
  },
  {
   "cell_type": "code",
   "execution_count": 88,
   "metadata": {},
   "outputs": [],
   "source": [
    "y = X*0\n",
    "for w in w_list:\n",
    "    y += np.array([computeDistribution(x, w) for x in X])\n",
    "y /= N"
   ]
  },
  {
   "cell_type": "code",
   "execution_count": 89,
   "metadata": {},
   "outputs": [
    {
     "data": {
      "text/plain": [
       "Text(0.5,1,'Sampled distribution')"
      ]
     },
     "execution_count": 89,
     "metadata": {},
     "output_type": "execute_result"
    },
    {
     "data": {
      "image/png": "[encoded data removed]",
      "text/plain": [
       "<matplotlib.figure.Figure at 0x2a126f440b8>"
      ]
     },
     "metadata": {},
     "output_type": "display_data"
    }
   ],
   "source": [
    "plt.plot(X, y, label = 'gp')\n",
    "plt.plot(X, 3*np.exp(-3*X), '--', label='3*exp(-3*x)')\n",
    "plt.legend()\n",
    "plt.title('Sampled distribution')"
   ]
  },
  {
   "cell_type": "code",
   "execution_count": 90,
   "metadata": {},
   "outputs": [
    {
     "data": {
      "text/plain": [
       "[<matplotlib.lines.Line2D at 0x2a126fea828>]"
      ]
     },
     "execution_count": 90,
     "metadata": {},
     "output_type": "execute_result"
    },
    {
     "data": {
      "image/png": "[encoded data removed]",
      "text/plain": [
       "<matplotlib.figure.Figure at 0x2a126fafe48>"
      ]
     },
     "metadata": {},
     "output_type": "display_data"
    }
   ],
   "source": [
    "plt.plot(X, (y-3*np.exp(-3*X))/3*np.exp(-3*X))"
   ]
  },
  {
   "cell_type": "code",
   "execution_count": 91,
   "metadata": {},
   "outputs": [
    {
     "data": {
      "text/plain": [
       "array([ 0.11271372,  0.1994788 ,  0.01803401,  0.66977347,  0.26088351])"
      ]
     },
     "execution_count": 91,
     "metadata": {},
     "output_type": "execute_result"
    }
   ],
   "source": [
    "w"
   ]
  },
  {
   "cell_type": "code",
   "execution_count": null,
   "metadata": {
    "collapsed": true
   },
   "outputs": [],
   "source": []
  }
 ],
 "metadata": {
  "kernelspec": {
   "display_name": "Python 3",
   "language": "python",
   "name": "python3"
  },
  "language_info": {
   "codemirror_mode": {
    "name": "ipython",
    "version": 3
   },
   "file_extension": ".py",
   "mimetype": "text/x-python",
   "name": "python",
   "nbconvert_exporter": "python",
   "pygments_lexer": "ipython3",
   "version": "3.6.3"
  }
 },
 "nbformat": 4,
 "nbformat_minor": 2
}
