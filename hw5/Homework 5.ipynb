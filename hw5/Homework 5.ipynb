{
 "cells": [
  {
   "cell_type": "code",
   "execution_count": null,
   "metadata": {
    "collapsed": true
   },
   "outputs": [],
   "source": [
    "import numpy as np\n",
    "import scipy as sp\n",
    "import matplotlib.pyplot as plt\n",
    "import seaborn as sns\n",
    "import pandas as pd"
   ]
  },
  {
   "cell_type": "code",
   "execution_count": null,
   "metadata": {
    "collapsed": true
   },
   "outputs": [],
   "source": [
    "#from __future__ import division\n",
    "%matplotlib inline\n",
    "import gc\n",
    "import collections"
   ]
  },
  {
   "cell_type": "code",
   "execution_count": null,
   "metadata": {},
   "outputs": [],
   "source": [
    "sample = np.random.exponential(scale=1/3, size=100)\n",
    "sns.distplot(list(sample), kde=False, norm_hist=True)\n",
    "x = np.linspace(0, sample.max(), 1000)\n",
    "plt.plot(x, 3*np.exp(-3*x))"
   ]
  },
  {
   "cell_type": "code",
   "execution_count": null,
   "metadata": {
    "collapsed": true
   },
   "outputs": [],
   "source": [
    "def g_j(j, x):\n",
    "    return j*np.exp(-j*x)"
   ]
  },
  {
   "cell_type": "code",
   "execution_count": null,
   "metadata": {
    "collapsed": true
   },
   "outputs": [],
   "source": [
    "def likelihood(M, w, data):\n",
    "    return np.array([(w*g_j(np.arange(1, M+1), x)).sum() for x in data]).prod()"
   ]
  },
  {
   "cell_type": "code",
   "execution_count": null,
   "metadata": {
    "collapsed": true
   },
   "outputs": [],
   "source": [
    "def draw_d(w, M, x):\n",
    "    '''\n",
    "    :type w: np.array\n",
    "    :type M: int\n",
    "    :type x: float\n",
    "    :rtype: int\n",
    "    '''\n",
    "    assert len(w)==M\n",
    "    pr = w*g_j(np.arange(1, M+1), x)\n",
    "    pr /= pr.sum()\n",
    "    res = np.random.choice(M, 1, p=pr)\n",
    "    return res"
   ]
  },
  {
   "cell_type": "code",
   "execution_count": null,
   "metadata": {
    "collapsed": true
   },
   "outputs": [],
   "source": [
    "def draw_w(M, d, X):\n",
    "    assert len(d)==len(X)\n",
    "    w_alpha = np.arange(M)\n",
    "    cnt = collections.Counter(w_alpha)\n",
    "    cnt += collections.Counter(d)\n",
    "    return np.random.dirichlet(list(cnt.values()))"
   ]
  },
  {
   "cell_type": "code",
   "execution_count": null,
   "metadata": {
    "collapsed": true
   },
   "outputs": [],
   "source": [
    "def M_up(M, w, data):\n",
    "    p_accept = 1/likelihood(M, w, data)\n",
    "    #split w\n",
    "    idx = np.random.randint(M)\n",
    "    w_split = np.random.beta(2, 2)\n",
    "    w = np.append(w, w[idx]*(1-w_split))\n",
    "    w[idx] *= w_split\n",
    "    #acceptance rate\n",
    "    p_accept *= likelihood(M+1, w, data)/6/(w_split*(1-w_split))\n",
    "    return p_accept, w"
   ]
  },
  {
   "cell_type": "code",
   "execution_count": null,
   "metadata": {
    "collapsed": true
   },
   "outputs": [],
   "source": []
  },
  {
   "cell_type": "code",
   "execution_count": null,
   "metadata": {
    "collapsed": true
   },
   "outputs": [],
   "source": [
    "def M_down(M, w, data):\n",
    "    p_accept = 1/likelihood(M, w, data)\n",
    "    #combine two w\n",
    "    w_split = np.random.beta(2, 2)\n",
    "    idx = np.random.randint(M-1)\n",
    "    w[idx] += w[-1]\n",
    "    w = w[:-1]\n",
    "    #idx1, idx2 = np.random.choice(M, 2, replace=False)\n",
    "    #w[idx1] += w[idx2]\n",
    "    #w = np.delete(w, idx2)\n",
    "    #acceptance rate\n",
    "    p_accept *= likelihood(M-1, w, data)*6*(w_split*(1-w_split))\n",
    "    return p_accept, w"
   ]
  },
  {
   "cell_type": "code",
   "execution_count": null,
   "metadata": {
    "collapsed": true
   },
   "outputs": [],
   "source": [
    "def draw_M(M, w, data):\n",
    "    u = np.random.uniform()\n",
    "    p, w_up = M_up(M, w, data)\n",
    "    if M == 1: # M can only go up in this case\n",
    "        if u < p:\n",
    "            return M+1, w_up\n",
    "        else:\n",
    "            return M, w\n",
    "    \n",
    "    if np.random.randint(2): # propose to go up\n",
    "        if u<p: # accepted to go up\n",
    "            return M+1, w_up\n",
    "        else: # stay\n",
    "            return M, w\n",
    "    else:\n",
    "        p, w_down = M_down(M, w, data)\n",
    "        if u<p: # accepted to go down\n",
    "            return M-1, w_down\n",
    "        else: # stay\n",
    "            return M, w\n"
   ]
  },
  {
   "cell_type": "code",
   "execution_count": null,
   "metadata": {
    "scrolled": false
   },
   "outputs": [],
   "source": [
    "M = 1\n",
    "N = 10000\n",
    "w = np.random.dirichlet(np.ones(M))\n",
    "sample2 = []\n",
    "Ms = []\n",
    "indices = []\n",
    "w_list = []\n",
    "for i in range(N):\n",
    "    if i%1000 == 0:\n",
    "        print(i)\n",
    "    d = np.array([draw_d(w, M, x)[0] for x in sample])\n",
    "    w = draw_w(M, d, sample)\n",
    "    w_list.append(w)\n",
    "    idx = np.random.choice(M, 1, p=w)[0]\n",
    "    indices.append(idx)\n",
    "    sample2.append(np.random.exponential(scale=1/(idx+1)))\n",
    "    Ms.append(M)\n",
    "    M, w = draw_M(M, w, sample)    "
   ]
  },
  {
   "cell_type": "code",
   "execution_count": null,
   "metadata": {
    "scrolled": true
   },
   "outputs": [],
   "source": [
    "plt.plot(Ms)"
   ]
  },
  {
   "cell_type": "code",
   "execution_count": null,
   "metadata": {},
   "outputs": [],
   "source": [
    "sns.distplot(Ms, kde=False, norm_hist=True, bins=range(1, 36))"
   ]
  },
  {
   "cell_type": "code",
   "execution_count": null,
   "metadata": {},
   "outputs": [],
   "source": [
    "sns.distplot(sample2, kde=False, norm_hist=True, label='sample')\n",
    "x = np.linspace(0, max(sample2), 1000)\n",
    "plt.plot(x, 3*np.exp(-3*x), label='3*exp(-3*x)')\n",
    "plt.legend()\n",
    "plt.title('Sampled distribution from Gibbs sampler')"
   ]
  },
  {
   "cell_type": "code",
   "execution_count": null,
   "metadata": {
    "scrolled": true
   },
   "outputs": [],
   "source": [
    "plt.plot(indices)"
   ]
  },
  {
   "cell_type": "code",
   "execution_count": null,
   "metadata": {},
   "outputs": [],
   "source": [
    "sns.distplot(indices, kde=False, norm_hist=True, bins=np.arange(35))"
   ]
  },
  {
   "cell_type": "code",
   "execution_count": null,
   "metadata": {
    "collapsed": true
   },
   "outputs": [],
   "source": [
    "sample_mean = [np.mean(sample2[:i]) for i in range(1, N+1)]"
   ]
  },
  {
   "cell_type": "code",
   "execution_count": null,
   "metadata": {},
   "outputs": [],
   "source": [
    "plt.plot(range(1, N+1), sample_mean)"
   ]
  },
  {
   "cell_type": "code",
   "execution_count": null,
   "metadata": {},
   "outputs": [],
   "source": [
    "sns.distplot(sample2[:2000], kde=False, norm_hist=True)\n",
    "x = np.linspace(0, max(sample2), 1000)\n",
    "plt.plot(x, 3*np.exp(-3*x))"
   ]
  },
  {
   "cell_type": "code",
   "execution_count": null,
   "metadata": {
    "scrolled": true
   },
   "outputs": [],
   "source": [
    "sample.mean(), np.mean(sample2)"
   ]
  },
  {
   "cell_type": "code",
   "execution_count": null,
   "metadata": {},
   "outputs": [],
   "source": [
    "gc.collect()"
   ]
  },
  {
   "cell_type": "code",
   "execution_count": null,
   "metadata": {
    "collapsed": true
   },
   "outputs": [],
   "source": [
    "X = np.linspace(0, 5, 101)"
   ]
  },
  {
   "cell_type": "code",
   "execution_count": null,
   "metadata": {
    "collapsed": true
   },
   "outputs": [],
   "source": [
    "def computeDistribution(x, w_list):\n",
    "    n = len(w_list)\n",
    "    return (w_list*g_j(np.arange(1, n+1), x)).sum()"
   ]
  },
  {
   "cell_type": "code",
   "execution_count": null,
   "metadata": {},
   "outputs": [],
   "source": [
    "y = X*0\n",
    "for w in w_list:\n",
    "    y += np.array([computeDistribution(x, w) for x in X])\n",
    "y /= N"
   ]
  },
  {
   "cell_type": "code",
   "execution_count": null,
   "metadata": {},
   "outputs": [],
   "source": [
    "plt.plot(X, y, label = 'gp')\n",
    "plt.plot(X, 3*np.exp(-3*X), '--', label='3*exp(-3*x)')\n",
    "plt.legend()\n",
    "plt.title('Sampled distribution')"
   ]
  },
  {
   "cell_type": "code",
   "execution_count": null,
   "metadata": {},
   "outputs": [],
   "source": [
    "plt.plot(X, (y-3*np.exp(-3*X))/3*np.exp(-3*X))"
   ]
  },
  {
   "cell_type": "code",
   "execution_count": null,
   "metadata": {},
   "outputs": [],
   "source": [
    "w"
   ]
  },
  {
   "cell_type": "code",
   "execution_count": null,
   "metadata": {
    "collapsed": true
   },
   "outputs": [],
   "source": []
  }
 ],
 "metadata": {
  "kernelspec": {
   "display_name": "Python 3",
   "language": "python",
   "name": "python3"
  },
  "language_info": {
   "codemirror_mode": {
    "name": "ipython",
    "version": 3
   },
   "file_extension": ".py",
   "mimetype": "text/x-python",
   "name": "python",
   "nbconvert_exporter": "python",
   "pygments_lexer": "ipython3",
   "version": "3.6.3"
  }
 },
 "nbformat": 4,
 "nbformat_minor": 2
}
