{
 "cells": [
  {
   "cell_type": "code",
   "execution_count": 84,
   "metadata": {
    "collapsed": true
   },
   "outputs": [],
   "source": [
    "import numpy as np\n",
    "import matplotlib.pyplot as plt\n",
    "import seaborn as sns\n",
    "from matplotlib import rc"
   ]
  },
  {
   "cell_type": "code",
   "execution_count": 86,
   "metadata": {
    "collapsed": true
   },
   "outputs": [],
   "source": [
    "%matplotlib inline\n",
    "from __future__ import division\n",
    "rc('font',**{'family':'sans-serif','sans-serif':['Helvetica']})\n",
    "rc('text', usetex=True)"
   ]
  },
  {
   "cell_type": "markdown",
   "metadata": {},
   "source": [
    "# Mid-term exam"
   ]
  },
  {
   "cell_type": "markdown",
   "metadata": {},
   "source": [
    "## 1.\n",
    "\n",
    "Consider the joint density $f(x, u) = 1(0<u<\\pi(x))$, the conditional density should be:\n",
    "\n",
    "i. given x, u should satisfy a uniform distribution $U(0, \\pi(x))$\n",
    "\n",
    "ii. given u, x should satisfy a uniform distribution on $A_u = \\{x:\\pi(x) > u \\}$\n",
    "\n",
    "Thus, the algorithm of the Gibbs sampler:\n",
    "\n",
    "1. sample $x_0$ from a proposed initial density $q_0(x)$\n",
    "2. sample u from $U(0, \\pi(x))$\n",
    "3. sample x from $U(A_u)$\n",
    "4. iterate 2 and 3 until convergence is reached and enough samples are generated"
   ]
  },
  {
   "cell_type": "markdown",
   "metadata": {},
   "source": [
    "Specifically, to sample $\\pi(x) \\propto 1/(1+x^4)$"
   ]
  },
  {
   "cell_type": "code",
   "execution_count": 3,
   "metadata": {
    "collapsed": true
   },
   "outputs": [],
   "source": [
    "def pi(x):\n",
    "    return 1/(1+x**4)"
   ]
  },
  {
   "cell_type": "markdown",
   "metadata": {},
   "source": [
    "From the above algorithm and joint density, $u|_x \\sim U(0, 1/(1+x^4))$:"
   ]
  },
  {
   "cell_type": "code",
   "execution_count": 4,
   "metadata": {
    "collapsed": true
   },
   "outputs": [],
   "source": [
    "def draw_u(x):\n",
    "    u = np.random.uniform()\n",
    "    while u >= pi(x):\n",
    "        u = np.random.uniform()\n",
    "    return u"
   ]
  },
  {
   "cell_type": "markdown",
   "metadata": {},
   "source": [
    "And $x|_u ~ U(-\\pi^{-1}(u),\\pi^{-1}(u))$, where $\\pi^{-1}(u)$ is defined by:\n",
    "\n",
    "\\begin{equation}\n",
    "\\pi^{-1}(u) = (\\frac{1}{u} - 1)^{1/4}\n",
    "\\end{equation}"
   ]
  },
  {
   "cell_type": "code",
   "execution_count": 13,
   "metadata": {
    "collapsed": true
   },
   "outputs": [],
   "source": [
    "def draw_x(u):\n",
    "    sign = np.random.choice([1, -1])\n",
    "    x = np.random.uniform(-pow(1/u-1, 1/4), pow(1/u-1, 1/4))\n",
    "    return sign*x"
   ]
  },
  {
   "cell_type": "markdown",
   "metadata": {},
   "source": [
    "Use this Gibbs sampler to generate a million samples:"
   ]
  },
  {
   "cell_type": "code",
   "execution_count": 63,
   "metadata": {},
   "outputs": [],
   "source": [
    "u = np.random.uniform()\n",
    "N = 1000000\n",
    "samples = np.zeros(N)\n",
    "for i in range(N):\n",
    "    x = draw_x(u)\n",
    "    samples[i] = x\n",
    "    u = draw_u(x)"
   ]
  },
  {
   "cell_type": "markdown",
   "metadata": {},
   "source": [
    "Plot the histogram of histogram of the samples, tt can be shown that this is consistent with the actual distribution:"
   ]
  },
  {
   "cell_type": "code",
   "execution_count": 125,
   "metadata": {},
   "outputs": [
    {
     "data": {
      "image/png": "[encoded data removed]",
      "text/plain": [
       "<matplotlib.figure.Figure at 0x7f0ec42e6cd0>"
      ]
     },
     "metadata": {},
     "output_type": "display_data"
    }
   ],
   "source": [
    "sns.distplot(samples, kde=False, norm_hist=True, label=\"histogram\")\n",
    "x = np.linspace(-35, 35,1000)\n",
    "plt.plot(x, 1/(1+x**4) * np.sqrt(2) / np.pi, label='\\pi(x)')\n",
    "plt.legend()\n",
    "plt.show()"
   ]
  },
  {
   "cell_type": "markdown",
   "metadata": {},
   "source": [
    "Compute the Monte Carlo integral for $I = \\int x^2 \\pi(x) dx$, plot the convergence curve"
   ]
  },
  {
   "cell_type": "code",
   "execution_count": 102,
   "metadata": {},
   "outputs": [
    {
     "data": {
      "image/png": "[encoded data removed]",
      "text/plain": [
       "<matplotlib.figure.Figure at 0x7f0ec4f569d0>"
      ]
     },
     "metadata": {},
     "output_type": "display_data"
    }
   ],
   "source": [
    "I = samples**2\n",
    "for i in range(1, N):\n",
    "    I[i] = (I[i-1]*i + samples[i]**2)/(i+1) #fast, probably unstable way to compute average vs iteration\n",
    "    \n",
    "plt.plot(range(N), I)\n",
    "plt.xlabel(\"number of iterations\")\n",
    "plt.ylabel(\"I\")\n",
    "plt.show()"
   ]
  },
  {
   "cell_type": "markdown",
   "metadata": {},
   "source": [
    "Use the first 200000 iterations as a burn-in simulation and compute the MC approximation $\\hat{I}_N = \\sum_{i}^n x_i y_i / n$ to estimate variance:"
   ]
  },
  {
   "cell_type": "code",
   "execution_count": 103,
   "metadata": {},
   "outputs": [
    {
     "data": {
      "text/plain": [
       "0.97173092278310669"
      ]
     },
     "execution_count": 103,
     "metadata": {},
     "output_type": "execute_result"
    }
   ],
   "source": [
    "(samples**2)[200000:].mean()"
   ]
  },
  {
   "cell_type": "markdown",
   "metadata": {},
   "source": [
    "Note that I assume $\\pi(x)$ is a probability function. Thus this MC integration is close to the actual integration which is:\n",
    "\n",
    "\\begin{equation}\n",
    "I = \\frac{\\int x^2 \\pi(x) dx}{\\int \\pi(x) dx} = 1\n",
    "\\end{equation}"
   ]
  },
  {
   "cell_type": "markdown",
   "metadata": {},
   "source": [
    "## 2.\n",
    "From Bayes' theory:\n",
    "\n",
    "\\begin{align}\n",
    "f(\\mu, \\lambda \\ | \\ data) &\\propto \\prod_{i=1}^n g(x_i \\ | \\ \\mu, \\lambda) \\cdot f(\\mu) \\cdot f(\\lambda) \\\\\n",
    "                        &=  \\lambda^{n/2} e^{\\lambda \\sum_{i=1}^n -(x_i-\\mu)^2 / 2} \\cdot \\frac{1}{ \\tau} e^{-\\mu^2 / 2\\tau^2} \\cdot \\lambda^{a-1} e^{-\\lambda b}\n",
    "\\end{align}"
   ]
  },
  {
   "cell_type": "markdown",
   "metadata": {},
   "source": [
    "Since the size of the samples is rather small, I picked larg $\\tau$ and small a and b so that the Markov chain is less sensitive to the coefficients."
   ]
  },
  {
   "cell_type": "code",
   "execution_count": 109,
   "metadata": {},
   "outputs": [],
   "source": [
    "tau = 10; a = 2; b = 3 \n",
    "n = 51"
   ]
  },
  {
   "cell_type": "markdown",
   "metadata": {},
   "source": [
    "Rearange $f(\\mu, \\lambda \\ | \\ data)$ and get conditional densities for $\\mu$ and $\\lambda$:\n",
    "\n",
    "\\begin{align}\n",
    "p(\\mu | \\lambda, data) &\\propto e^{\\lambda \\sum_{i=1}^n -(x_i-\\mu)^2 / 2} \\cdot  e^{-\\mu^2 / 2\\tau^2}\\\\\n",
    "                        &\\propto e^{-\\frac{1}{2} (\\mu - \\frac{\\lambda n \\bar{x}}{1/\\tau^2 + n \\lambda})^2 \\cdot (1/\\tau^2 + n \\lambda)}\n",
    "\\end{align}\n",
    "\n",
    "$\\mu |_\\lambda \\sim N(\\frac{\\lambda n \\bar{x}}{1/\\tau^2 + n \\lambda}, \\frac{1}{1/\\tau^2 + n \\lambda})$"
   ]
  },
  {
   "cell_type": "code",
   "execution_count": 110,
   "metadata": {
    "collapsed": true
   },
   "outputs": [],
   "source": [
    "def draw_mu(lamda):\n",
    "    return np.random.normal(lamda*10.2/(1/tau**2+n*lamda), np.sqrt(1/(n*lamda+1/tau**2)))"
   ]
  },
  {
   "cell_type": "markdown",
   "metadata": {},
   "source": [
    "\\begin{align}\n",
    "p(\\lambda | \\mu , data) \\propto \\lambda^{n/2 + a -1} e^{-\\frac{1}{2} \\lambda [b+\\sum_i(x_i-\\mu)^2]}\n",
    "\\end{align}\n",
    "\n",
    "$\\lambda|_\\mu \\sim Gamma(n/2+a, \\frac{b+\\sum_i (x_i-\\mu)^2}{2})$"
   ]
  },
  {
   "cell_type": "code",
   "execution_count": 150,
   "metadata": {
    "collapsed": true
   },
   "outputs": [],
   "source": [
    "def draw_lamda(mu):\n",
    "    return np.random.gamma(shape = a+n/2, scale=2/(b+(39.6 -2*mu*10.2 + n*mu**2) - 10.2**2/n))"
   ]
  },
  {
   "cell_type": "markdown",
   "metadata": {},
   "source": [
    "Similar to the previous question, the Gibbs sampler starts with an initial $\\mu_0$, then sample $\\lambda$ and $\\mu$ iteratively based on the above two conditional densities in a round Robin fashion (100000 samples were generated):"
   ]
  },
  {
   "cell_type": "code",
   "execution_count": 151,
   "metadata": {},
   "outputs": [],
   "source": [
    "mu = np.random.normal(0.2, 0.751)\n",
    "N2 = 100000\n",
    "samples2 = np.zeros((N2, 2))\n",
    "for i in range(N2):\n",
    "    lamda = draw_lamda(mu)\n",
    "    mu = draw_mu(lamda)\n",
    "    samples2[i][0] = mu\n",
    "    samples2[i][1] = lamda"
   ]
  },
  {
   "cell_type": "markdown",
   "metadata": {},
   "source": [
    "Consider the marginal densities for $\\mu$:\n",
    "\\begin{align}\n",
    "p(\\mu | data) &\\propto \\exp(-\\mu^2 / 2\\tau^2)\\cdot \\int \\lambda^{n/2 + a -1} e^{-\\frac{1}{2} \\lambda [b+\\sum_i(x_i-\\mu)^2]} d\\lambda \\\\\n",
    "                &\\propto \\exp(-\\mu^2 / 2\\tau^2)\\cdot [b+ \\frac{\\sum_i(x_i-\\mu)^2}{2}]^{-(a+n/2)}\n",
    "\\end{align}\n"
   ]
  },
  {
   "cell_type": "code",
   "execution_count": 147,
   "metadata": {},
   "outputs": [
    {
     "data": {
      "image/png": "[encoded data removed]",
      "text/plain": [
       "<matplotlib.figure.Figure at 0x7f0ec3f10d10>"
      ]
     },
     "metadata": {},
     "output_type": "display_data"
    }
   ],
   "source": [
    "x = np.linspace(-0.5, 0.9, 1001)\n",
    "y = np.exp(-x**2/2/tau**2)*(b + (39.6 - 2*10.2*x + n*x**2)**2/2)**(-a-n/2)\n",
    "plt.plot(x,y, label = r\"p(\\mu)\")\n",
    "plt.show()"
   ]
  },
  {
   "cell_type": "markdown",
   "metadata": {},
   "source": [
    "The sample distribution for $\\mu$:"
   ]
  },
  {
   "cell_type": "code",
   "execution_count": 152,
   "metadata": {},
   "outputs": [
    {
     "data": {
      "image/png": "[encoded data removed]",
      "text/plain": [
       "<matplotlib.figure.Figure at 0x7f0ec2620e10>"
      ]
     },
     "metadata": {},
     "output_type": "display_data"
    }
   ],
   "source": [
    "sns.distplot(samples2[:,0], norm_hist=True, label=\"histogram\")\n",
    "plt.show()"
   ]
  },
  {
   "cell_type": "markdown",
   "metadata": {},
   "source": [
    "The marginal density of $\\lambda$:\n",
    "\n",
    "\\begin{align}\n",
    "p(\\lambda | data) &\\propto \\lambda^{n/2+a-1} e^{-\\lambda b} \n",
    "\\int e^{-\\frac{1}{2} (\\mu - \\frac{\\lambda n \\bar{x}}{1/\\tau^2 + n \\lambda})^2 \\cdot (1/\\tau^2 + n \\lambda)} d\\mu\\\\\n",
    "                    &\\propto \\frac{\\lambda^{n/2+a-1} e^{-\\lambda b}}{\\sqrt{1/\\tau^2 + n\\lambda}}\n",
    "\\end{align}"
   ]
  },
  {
   "cell_type": "code",
   "execution_count": 153,
   "metadata": {},
   "outputs": [
    {
     "data": {
      "image/png": "[encoded data removed]",
      "text/plain": [
       "<matplotlib.figure.Figure at 0x7f0ec2673990>"
      ]
     },
     "metadata": {},
     "output_type": "display_data"
    }
   ],
   "source": [
    "x = np.linspace(0,30,1001)\n",
    "y = x**(n/2+a-1)*np.exp(-x*b)/np.sqrt(1/tau**2+n*x) * np.exp(-(10.2*x)**2/(n*x+1/tau**2)/2)\n",
    "plt.plot(x, y)\n",
    "plt.show()"
   ]
  },
  {
   "cell_type": "code",
   "execution_count": 154,
   "metadata": {},
   "outputs": [
    {
     "data": {
      "image/png": "[encoded data removed]",
      "text/plain": [
       "<matplotlib.figure.Figure at 0x7f0ec269f690>"
      ]
     },
     "metadata": {},
     "output_type": "display_data"
    }
   ],
   "source": [
    "sns.distplot(samples2[:,1])\n",
    "plt.show()"
   ]
  },
  {
   "cell_type": "code",
   "execution_count": 155,
   "metadata": {},
   "outputs": [
    {
     "data": {
      "image/png": "[encoded data removed]",
      "text/plain": [
       "<matplotlib.figure.Figure at 0x7f0ec2502610>"
      ]
     },
     "metadata": {},
     "output_type": "display_data"
    }
   ],
   "source": [
    "mu = samples2[:,0].copy()\n",
    "lamda = samples2[:,1].copy()\n",
    "\n",
    "for i in range(1, N2):\n",
    "    mu[i] = (mu[i-1]*i + samples2[i, 0])/(i+1)\n",
    "    lamda[i] = (lamda[i-1]*i + samples2[i,1])/(i+1)\n",
    "    \n",
    "plt.plot(range(N2), mu)\n",
    "plt.show()"
   ]
  },
  {
   "cell_type": "code",
   "execution_count": 156,
   "metadata": {},
   "outputs": [
    {
     "data": {
      "image/png": "[encoded data removed]",
      "text/plain": [
       "<matplotlib.figure.Figure at 0x7f0ec401ea90>"
      ]
     },
     "metadata": {},
     "output_type": "display_data"
    }
   ],
   "source": [
    "plt.plot(range(N2), lamda)\n",
    "plt.show()"
   ]
  },
  {
   "cell_type": "code",
   "execution_count": 157,
   "metadata": {},
   "outputs": [
    {
     "data": {
      "text/plain": [
       "array([ 4.98308556,  0.71415972])"
      ]
     },
     "execution_count": 157,
     "metadata": {},
     "output_type": "execute_result"
    }
   ],
   "source": [
    "1/samples2[-10000:].mean(axis=0)"
   ]
  },
  {
   "cell_type": "code",
   "execution_count": 158,
   "metadata": {},
   "outputs": [
    {
     "data": {
      "text/plain": [
       "0.7512000000000001"
      ]
     },
     "execution_count": 158,
     "metadata": {},
     "output_type": "execute_result"
    }
   ],
   "source": [
    "(39.6 - 2*0.2*10.2 + n*0.2**2)/(n-1)"
   ]
  },
  {
   "cell_type": "markdown",
   "metadata": {},
   "source": [
    "## 3.\n",
    "\n",
    "Note that the initial position matters in this problem"
   ]
  },
  {
   "cell_type": "code",
   "execution_count": 21,
   "metadata": {
    "collapsed": true
   },
   "outputs": [],
   "source": [
    "alpha3 = 3"
   ]
  },
  {
   "cell_type": "code",
   "execution_count": 22,
   "metadata": {
    "collapsed": true
   },
   "outputs": [],
   "source": [
    "def pi(k):\n",
    "    return 1/np.power(k, alpha3)"
   ]
  },
  {
   "cell_type": "code",
   "execution_count": 23,
   "metadata": {
    "collapsed": true
   },
   "outputs": [],
   "source": [
    "def q(x2, x1):\n",
    "    assert abs(x2-x1) == 1\n",
    "    if x2 == 2 and x1 == 1:\n",
    "        return 1\n",
    "    return 1/2"
   ]
  },
  {
   "cell_type": "code",
   "execution_count": 24,
   "metadata": {
    "collapsed": true
   },
   "outputs": [],
   "source": [
    "def alpha(x2, x1):\n",
    "    \n",
    "    return min(1, pi(x2) / pi(x1) * q(x1, x2) / q(x2, x1))"
   ]
  },
  {
   "cell_type": "code",
   "execution_count": 25,
   "metadata": {
    "collapsed": true
   },
   "outputs": [],
   "source": [
    "x1 = 1\n",
    "N3 = 10000\n",
    "samples3 = np.zeros(N3)\n",
    "for i in range(N3):\n",
    "    x2_tmp = 2 if x1 == 1 else np.random.choice([x1+1, x1-1])\n",
    "    u = np.random.uniform()\n",
    "    x2 = x2_tmp if u < alpha(x2_tmp, x1) else x1\n",
    "    x1 = x2\n",
    "    samples3[i] = x2"
   ]
  },
  {
   "cell_type": "code",
   "execution_count": 26,
   "metadata": {},
   "outputs": [
    {
     "data": {
      "text/plain": [
       "array([ 1.,  1.,  1., ...,  1.,  1.,  1.])"
      ]
     },
     "execution_count": 26,
     "metadata": {},
     "output_type": "execute_result"
    }
   ],
   "source": [
    "samples3"
   ]
  },
  {
   "cell_type": "code",
   "execution_count": 27,
   "metadata": {},
   "outputs": [
    {
     "data": {
      "text/plain": [
       "<matplotlib.axes._subplots.AxesSubplot at 0x7fa1b92266d0>"
      ]
     },
     "execution_count": 27,
     "metadata": {},
     "output_type": "execute_result"
    },
    {
     "data": {
      "image/png": "[encoded data removed]",
      "text/plain": [
       "<matplotlib.figure.Figure at 0x7fa1b90c0a10>"
      ]
     },
     "metadata": {},
     "output_type": "display_data"
    }
   ],
   "source": [
    "sns.distplot(samples3, kde=False)\n",
    "#plt.plot(range(1,17), 1/np.power(range(1,17), 3))"
   ]
  },
  {
   "cell_type": "code",
   "execution_count": 34,
   "metadata": {},
   "outputs": [
    {
     "data": {
      "text/plain": [
       "[<matplotlib.lines.Line2D at 0x7fa1b8ebd150>]"
      ]
     },
     "execution_count": 34,
     "metadata": {},
     "output_type": "execute_result"
    },
    {
     "data": {
      "image/png": "[encoded data removed]",
      "text/plain": [
       "<matplotlib.figure.Figure at 0x7fa1b8fdbfd0>"
      ]
     },
     "metadata": {},
     "output_type": "display_data"
    }
   ],
   "source": [
    "X3 = range(1, 100)\n",
    "plt.plot(X3, 1/np.power(X3, 3))"
   ]
  },
  {
   "cell_type": "markdown",
   "metadata": {},
   "source": [
    "## 4."
   ]
  },
  {
   "cell_type": "code",
   "execution_count": null,
   "metadata": {
    "collapsed": true
   },
   "outputs": [],
   "source": []
  },
  {
   "cell_type": "code",
   "execution_count": 112,
   "metadata": {
    "collapsed": true
   },
   "outputs": [],
   "source": [
    "def pi4(x, y):\n",
    "    return np.exp(-4*x-3*y*np.exp(x))\n",
    "\n",
    "def q4(x2, x1):\n",
    "    return 1/x2 * np.exp(-1/2 * (np.log(x2) - np.log(x1))**2)\n",
    "\n",
    "def alpha4(x2, x1, y):\n",
    "    return min(1, pi4(x2, y) / pi4(x1, y) * x2/x1)"
   ]
  },
  {
   "cell_type": "code",
   "execution_count": 127,
   "metadata": {
    "collapsed": true
   },
   "outputs": [],
   "source": [
    "def MH_x(x, y):\n",
    "    x_tmp = np.random.lognormal(np.log(x), 1)\n",
    "    u = np.random.uniform()\n",
    "    x = x_tmp if u < alpha4(x_tmp, x, y) else x\n",
    "    return x\n",
    "\n",
    "def draw_y(x):\n",
    "    return np.random.gamma(shape = 4, scale = 1/3/np.exp(x))"
   ]
  },
  {
   "cell_type": "code",
   "execution_count": 147,
   "metadata": {
    "collapsed": true
   },
   "outputs": [],
   "source": [
    "N4 = 100000\n",
    "samples4 = np.zeros((N4, 2))\n",
    "x = 1\n",
    "y = np.random.gamma(4, 5)\n",
    "for i in range(N4):\n",
    "    y = draw_y(x)\n",
    "    x = MH_x(x, y)\n",
    "    samples4[i, 0] = x\n",
    "    samples4[i, 1] = y"
   ]
  },
  {
   "cell_type": "code",
   "execution_count": 148,
   "metadata": {},
   "outputs": [
    {
     "data": {
      "text/plain": [
       "<matplotlib.axes._subplots.AxesSubplot at 0x7fa1b643f810>"
      ]
     },
     "execution_count": 148,
     "metadata": {},
     "output_type": "execute_result"
    },
    {
     "data": {
      "image/png": "[encoded data removed]",
      "text/plain": [
       "<matplotlib.figure.Figure at 0x7fa1b5db1750>"
      ]
     },
     "metadata": {},
     "output_type": "display_data"
    }
   ],
   "source": [
    "sns.distplot(samples4[:,0], kde=False)"
   ]
  },
  {
   "cell_type": "code",
   "execution_count": 149,
   "metadata": {},
   "outputs": [
    {
     "data": {
      "text/plain": [
       "<matplotlib.axes._subplots.AxesSubplot at 0x7fa1b5d45b50>"
      ]
     },
     "execution_count": 149,
     "metadata": {},
     "output_type": "execute_result"
    },
    {
     "data": {
      "image/png": "[encoded data removed]",
      "text/plain": [
       "<matplotlib.figure.Figure at 0x7fa1b5d8e090>"
      ]
     },
     "metadata": {},
     "output_type": "display_data"
    }
   ],
   "source": [
    "sns.distplot(samples4[:, 1])"
   ]
  },
  {
   "cell_type": "code",
   "execution_count": 150,
   "metadata": {},
   "outputs": [
    {
     "data": {
      "text/plain": [
       "0.13202225070870988"
      ]
     },
     "execution_count": 150,
     "metadata": {},
     "output_type": "execute_result"
    }
   ],
   "source": [
    "(samples4[:,0] * samples4[:,1]).mean()"
   ]
  },
  {
   "cell_type": "code",
   "execution_count": 151,
   "metadata": {},
   "outputs": [
    {
     "data": {
      "text/plain": [
       "[<matplotlib.lines.Line2D at 0x7fa1b5b48f90>]"
      ]
     },
     "execution_count": 151,
     "metadata": {},
     "output_type": "execute_result"
    },
    {
     "data": {
      "image/png": "[encoded data removed]",
      "text/plain": [
       "<matplotlib.figure.Figure at 0x7fa1b5d98150>"
      ]
     },
     "metadata": {},
     "output_type": "display_data"
    }
   ],
   "source": [
    "I4 = (samples4[:,0] * samples4[:,1])\n",
    "for i in range(1, N):\n",
    "    I4[i] = (samples4[:i,0]*samples4[:i,1]).mean()\n",
    "    \n",
    "plt.plot(range(N4), I4)"
   ]
  },
  {
   "cell_type": "code",
   "execution_count": 152,
   "metadata": {},
   "outputs": [
    {
     "data": {
      "text/plain": [
       "0.13180364238209383"
      ]
     },
     "execution_count": 152,
     "metadata": {},
     "output_type": "execute_result"
    }
   ],
   "source": [
    "(samples4[20000:,0] * samples4[20000:,1]).mean()"
   ]
  },
  {
   "cell_type": "code",
   "execution_count": null,
   "metadata": {
    "collapsed": true
   },
   "outputs": [],
   "source": []
  }
 ],
 "metadata": {
  "kernelspec": {
   "display_name": "Python 2",
   "language": "python",
   "name": "python2"
  },
  "language_info": {
   "codemirror_mode": {
    "name": "ipython",
    "version": 2
   },
   "file_extension": ".py",
   "mimetype": "text/x-python",
   "name": "python",
   "nbconvert_exporter": "python",
   "pygments_lexer": "ipython2",
   "version": "2.7.14"
  }
 },
 "nbformat": 4,
 "nbformat_minor": 2
}
